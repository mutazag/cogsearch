{
 "cells": [
  {
   "cell_type": "code",
   "execution_count": 10,
   "id": "440339eb",
   "metadata": {},
   "outputs": [],
   "source": [
    "import os\n",
    "import json\n",
    "from dotenv import load_dotenv\n",
    "\n",
    "\n",
    "from azure.identity import (\n",
    "    DefaultAzureCredential,\n",
    "    get_bearer_token_provider,\n",
    "    AzurePowerShellCredential,\n",
    "    AzureCliCredential )\n",
    "from azure.core.credentials import AzureKeyCredential"
   ]
  },
  {
   "cell_type": "code",
   "execution_count": 35,
   "id": "fea88ba1",
   "metadata": {},
   "outputs": [],
   "source": [
    "from azure.search.documents.indexes.models import (\n",
    "    SearchIndex,\n",
    "    SearchField,\n",
    "    VectorSearch,\n",
    "    VectorSearchProfile,\n",
    "    HnswAlgorithmConfiguration,\n",
    "    AzureOpenAIVectorizer,\n",
    "    AzureOpenAIVectorizerParameters,\n",
    "    SemanticSearch,\n",
    "    SemanticConfiguration,\n",
    "    SemanticPrioritizedFields,\n",
    "    SemanticField,\n",
    "\n",
    ")\n",
    "from azure.search.documents.indexes import SearchIndexClient\n",
    "\n",
    "\n",
    "from azure.search.documents.models import VectorizableTextQuery"
   ]
  },
  {
   "cell_type": "code",
   "execution_count": 12,
   "id": "4566b354",
   "metadata": {},
   "outputs": [
    {
     "name": "stdout",
     "output_type": "stream",
     "text": [
      "0.1.0-agentic-retrieval\n"
     ]
    }
   ],
   "source": [
    "load_dotenv(dotenv_path=\".env\", override=True) # Take environment variables from .env.\n",
    "\n",
    "print(os.environ.get(\"VERSION\"))"
   ]
  },
  {
   "cell_type": "code",
   "execution_count": 13,
   "id": "09fd2418",
   "metadata": {},
   "outputs": [],
   "source": [
    "azure_openai_endpoint = os.environ.get(\"AZURE_OPENAI_ENDPOINT\")\n",
    "azure_openai_gpt_deployment = os.environ.get(\"AZURE_OPENAI_GPT_DEPLOYMENT\")\n",
    "azure_openai_gpt_model = os.environ.get(\"AZURE_OPENAI_GPT_MODEL\")\n",
    "\n",
    "azure_ai_search_endpoint = os.environ.get(\"AZURE_SEARCH_SERVICE_ENDPOINT\")\n",
    "index_name = os.environ.get(\"AZURE_SEARCH_INDEX\")\n",
    "credential = AzureKeyCredential(key=os.environ.get(\"AZURE_SEARCH_ADMIN_KEY\"))\n",
    "\n",
    "\n",
    "agent_name = \"agenticretriever\""
   ]
  },
  {
   "cell_type": "code",
   "execution_count": null,
   "id": "ae1c18b0",
   "metadata": {},
   "outputs": [],
   "source": [
    "import sys\n",
    "sys.path.append(\"..\")\n"
   ]
  },
  {
   "cell_type": "code",
   "execution_count": 33,
   "id": "75f9a259",
   "metadata": {},
   "outputs": [
    {
     "name": "stdout",
     "output_type": "stream",
     "text": [
      "✓ DefaultAzureCredential authentication succeeded\n",
      "✓ AzureCliCredential authentication succeeded\n"
     ]
    }
   ],
   "source": [
    "from helpers.credhlpr import check_credential\n",
    "print(check_credential(DefaultAzureCredential))\n",
    "print(check_credential(AzureCliCredential))"
   ]
  },
  {
   "cell_type": "code",
   "execution_count": null,
   "id": "3a17663c",
   "metadata": {},
   "outputs": [
    {
     "name": "stdout",
     "output_type": "stream",
     "text": [
      "index_name:  multimodal-rag\n",
      "{'document_count': 623, 'storage_size': 27295599, 'vector_index_size': 7699308}\n",
      "index_name:  multimodal-rag\n",
      "{'document_count': 623, 'storage_size': 27295599, 'vector_index_size': 7699308}\n",
      "<class 'azure.search.documents._search_client.SearchClient'>\n"
     ]
    }
   ],
   "source": [
    "from  helpers.searchhlpr import get_search_client, get_search_index_client\n",
    "\n",
    "search_index_client = get_search_index_client()\n",
    "search_client = get_search_client()\n",
    "\n",
    "print(type(search_client))"
   ]
  },
  {
   "cell_type": "code",
   "execution_count": 45,
   "id": "e039a30b",
   "metadata": {},
   "outputs": [
    {
     "name": "stdout",
     "output_type": "stream",
     "text": [
      "Fields in index 'multimodal-rag': ['content_id', 'text_document_id', 'document_title', 'image_document_id', 'content_text', 'content_embedding', 'content_path', 'locationMetadata']\n",
      "Vector fields in index 'multimodal-rag': ['content_embedding']\n",
      "Searchable fields in index 'multimodal-rag': ['content_id', 'text_document_id', 'document_title', 'image_document_id', 'content_text', 'content_path', 'locationMetadata']\n",
      "Semantic configuration name: multimodal-rag-semantic-configuration\n"
     ]
    }
   ],
   "source": [
    "search_index = search_index_client.get_index(name=index_name)\n",
    "\n",
    "all_fields = [field.name for field in search_index.fields]\n",
    "print(f\"Fields in index '{index_name}': {all_fields}\")\n",
    "\n",
    "vector_fields = [field.name for field in search_index.fields if field.vector_search_profile_name is not None]\n",
    "print(f\"Vector fields in index '{index_name}': {vector_fields}\")\n",
    "\n",
    "# select_fields = [field.name for field in search_index.fields if field.searchable and field.name not in vector_fields]\n",
    "select_fields = [field.name for field in search_index.fields if field.name not in vector_fields]\n",
    "print(f\"Searchable fields in index '{index_name}': {select_fields}\")\n",
    "\n",
    "semantic_configuration_name = search_index.semantic_search.default_configuration_name\n",
    "print(f\"Semantic configuration name: {semantic_configuration_name}\")\n",
    "\n"
   ]
  },
  {
   "cell_type": "code",
   "execution_count": 114,
   "id": "c9bfa51d",
   "metadata": {},
   "outputs": [],
   "source": [
    "query = \"What does a project manager do\"\n",
    "topk = 5\n",
    "\n",
    "vector_queries = [VectorizableTextQuery(\n",
    "        text = query,\n",
    "        k_nearest_neighbors=topk,\n",
    "        fields=vector,\n",
    "        exhaustive=True,\n",
    "    ) for vector in vector_fields]\n",
    "\n",
    "\n",
    "search_results = search_client.search(\n",
    "        search_text = query,\n",
    "        vector_queries=vector_queries,\n",
    "        select=select_fields,\n",
    "        top=topk,\n",
    "        include_total_count=True,\n",
    "        query_type=\"semantic\",\n",
    "        semantic_configuration_name=semantic_configuration_name,\n",
    "        query_answer=\"extractive\",\n",
    "        query_answer_count=5,\n",
    "        query_caption=\"extractive\",\n",
    "        query_caption_highlight_enabled=True,\n",
    "    )\n",
    "\n"
   ]
  },
  {
   "cell_type": "code",
   "execution_count": 115,
   "id": "06bc7b09",
   "metadata": {},
   "outputs": [
    {
     "name": "stdout",
     "output_type": "stream",
     "text": [
      "========================================\n",
      "Document title:  role_library.pdf\n",
      "Content path:  None\n",
      "Content text:  that performance obj  ... \n",
      "Score:  0.029206350445747375\n",
      "Text:  ... Oversee and manage all research and developmen  ... \n",
      "Highlights:  <em>... Oversee and manage all research and development projects   - Lead and motivate the research   ... \n",
      "========================================\n",
      "Document title:  Enterprise AI Planning.pdf\n",
      "Content path:  None\n",
      "Content text:  In most organization  ... \n",
      "Score:  0.014084506779909134\n",
      "Text:  In most organizations there are peopl... The accou  ... \n",
      "Highlights:  In most organizations there are peopl... The accountabilities of these individuals are generally:     ... \n",
      "========================================\n",
      "Document title:  role_library.pdf\n",
      "Content path:  None\n",
      "Content text:  Job Title: Manager o  ... \n",
      "Score:  0.01149425283074379\n",
      "Text:  ...e special pr as needed   • Build and maintain r  ... \n",
      "Highlights:  <em>...e special pr </em>as needed   • Build and maintain relationships with external stakeholders    ... \n",
      "========================================\n",
      "Document title:  Enterprise AI Planning.pdf\n",
      "Content path:  None\n",
      "Content text:  can be centralized,   ... \n",
      "Score:  0.014705882407724857\n",
      "Text:  The accountabilities of this individual are genera  ... \n",
      "Highlights:  The accountabilities of this individual are generally:   o Develop Strategic AI Initiatives  o Set t  ... \n",
      "========================================\n",
      "Document title:  role_library.pdf\n",
      "Content path:  None\n",
      "Content text:  and analyze market t  ... \n",
      "Score:  0.015384615398943424\n",
      "Text:  ...ct management experience   - Proven track recor  ... \n",
      "Highlights:    ... \n"
     ]
    }
   ],
   "source": [
    "\n",
    "# for r in search_results:\n",
    "#     print(json.dumps(r, indent=2))\n",
    "\n",
    "for result in search_results:\n",
    "    print(\"========================================\")\n",
    "    # print(result.keys())\n",
    "    print(\"Document title: \", result[\"document_title\"])\n",
    "    print(\"Content path: \", result[\"content_path\"])\n",
    "    print(\"Content text: \", result[\"content_text\"][:20], \" ... \")\n",
    "    print(\"Score: \", result[\"@search.score\"])\n",
    "    # print(result[\"@search.captions\"])\n",
    "    # print(result)\n",
    "\n",
    "    for caption in result[\"@search.captions\"]:\n",
    "        # print(\"Caption: \", caption)\n",
    "        print(\"Text: \", caption.text[:50], \" ... \")\n",
    "        print(\"Highlights: \", caption.highlights[:100], \" ... \")\n",
    "        # print(type(caption))\n",
    "\n"
   ]
  },
  {
   "cell_type": "code",
   "execution_count": 116,
   "id": "c987e85f",
   "metadata": {},
   "outputs": [
    {
     "name": "stdout",
     "output_type": "stream",
     "text": [
      "Index 'multimodal-rag' created or updated successfully\n"
     ]
    }
   ],
   "source": [
    "# index_client = SearchIndexClient(endpoint=endpoint, credential=credential)\n",
    "index_client = SearchIndexClient(endpoint=azure_ai_search_endpoint, credential=credential)\n",
    "print(f\"Index '{index_name}' created or updated successfully\")\n"
   ]
  },
  {
   "cell_type": "code",
   "execution_count": 117,
   "id": "966eae73",
   "metadata": {},
   "outputs": [
    {
     "data": {
      "text/plain": [
       "['multimodal-rag', 'sharepoint-1748400144034-index']"
      ]
     },
     "execution_count": 117,
     "metadata": {},
     "output_type": "execute_result"
    }
   ],
   "source": [
    "indexesitor = index_client.list_indexes()\n",
    "\n",
    "[i.name for i in indexesitor]\n"
   ]
  },
  {
   "cell_type": "code",
   "execution_count": 118,
   "id": "0ec6c332",
   "metadata": {},
   "outputs": [
    {
     "data": {
      "text/plain": [
       "<azure.search.documents.indexes.models._index.SearchIndex at 0x275870787d0>"
      ]
     },
     "execution_count": 118,
     "metadata": {},
     "output_type": "execute_result"
    }
   ],
   "source": [
    "index_client.get_index(\"multimodal-rag\")"
   ]
  },
  {
   "cell_type": "code",
   "execution_count": 119,
   "id": "00955102",
   "metadata": {},
   "outputs": [
    {
     "name": "stdout",
     "output_type": "stream",
     "text": [
      "https://openaiau.openai.azure.com/\n",
      "gpt-4o-global\n",
      "gpt-4o\n"
     ]
    }
   ],
   "source": [
    "print(azure_openai_endpoint)\n",
    "print(azure_openai_gpt_deployment)\n",
    "print(azure_openai_gpt_model)"
   ]
  },
  {
   "cell_type": "code",
   "execution_count": 122,
   "id": "2b6523a8",
   "metadata": {},
   "outputs": [
    {
     "name": "stdout",
     "output_type": "stream",
     "text": [
      "Knowledge agent 'agenticretriever' created or updated successfully\n"
     ]
    }
   ],
   "source": [
    "from azure.search.documents.indexes.models import KnowledgeAgent, KnowledgeAgentAzureOpenAIModel, KnowledgeAgentTargetIndex, KnowledgeAgentRequestLimits, AzureOpenAIVectorizerParameters\n",
    "\n",
    "agent = KnowledgeAgent(\n",
    "    name=agent_name,\n",
    "    models=[\n",
    "        KnowledgeAgentAzureOpenAIModel(\n",
    "            azure_open_ai_parameters=AzureOpenAIVectorizerParameters(\n",
    "                resource_url=azure_openai_endpoint,\n",
    "                deployment_name=azure_openai_gpt_deployment,\n",
    "                model_name=azure_openai_gpt_model\n",
    "            )\n",
    "        )\n",
    "    ],\n",
    "    target_indexes=[\n",
    "        KnowledgeAgentTargetIndex(\n",
    "            index_name=index_name,\n",
    "            default_reranker_threshold=2.5\n",
    "        )\n",
    "    ],\n",
    ")\n",
    "\n",
    "index_client.create_or_update_agent(agent)\n",
    "print(f\"Knowledge agent '{agent_name}' created or updated successfully\")"
   ]
  },
  {
   "cell_type": "code",
   "execution_count": 123,
   "id": "a33f31f8",
   "metadata": {},
   "outputs": [
    {
     "name": "stdout",
     "output_type": "stream",
     "text": [
      "agenticretriever\n"
     ]
    }
   ],
   "source": [
    "for a in index_client.list_agents():\n",
    "    print(a.name)"
   ]
  },
  {
   "cell_type": "code",
   "execution_count": null,
   "id": "4d00543f",
   "metadata": {},
   "outputs": [],
   "source": [
    "from azure.search.documents.agent import KnowledgeAgentRetrievalClient\n",
    "from azure.search.documents.agent.models import KnowledgeAgentRetrievalRequest, KnowledgeAgentMessage, KnowledgeAgentMessageTextContent, KnowledgeAgentIndexParams\n",
    "\n",
    "agent_client = KnowledgeAgentRetrievalClient(\n",
    "    endpoint=azure_ai_search_endpoint,\n",
    "    agent_name=agent_name,\n",
    "    credential=credential)\n"
   ]
  },
  {
   "cell_type": "code",
   "execution_count": 125,
   "id": "d25c4e15",
   "metadata": {},
   "outputs": [],
   "source": [
    "instructions = \"\"\"\n",
    "A Q&A agent that can answer questions about the Earth at night.\n",
    "Sources have a JSON format with a ref_id that must be cited in the answer.\n",
    "If you do not have the answer, respond with \"I don't know\".\n",
    "\"\"\"\n",
    "\n",
    "messages = [\n",
    "    {\n",
    "        \"role\": \"system\",\n",
    "        \"content\": instructions\n",
    "    }\n",
    "]\n",
    "\n",
    "\n",
    "# messages.append({\n",
    "#     \"role\": \"user\",\n",
    "#     \"content\": \"\"\"\n",
    "#     Why do suburban belts display larger December brightening than urban cores even though absolute light levels are higher downtown?\n",
    "#     Why is the Phoenix nighttime street grid is so sharply visible from space, whereas large stretches of the interstate between midwestern cities remain comparatively dim?\n",
    "#     \"\"\"\n",
    "# })\n",
    "\n",
    "messages.append({\n",
    "    \"role\": \"user\",\n",
    "    \"content\": \"\"\"\n",
    "    What is a project manager? and what is a CEO? and between the two, who is more important in a company?\n",
    "    \"\"\"\n",
    "})\n"
   ]
  },
  {
   "cell_type": "code",
   "execution_count": 126,
   "id": "9163eea7",
   "metadata": {},
   "outputs": [
    {
     "data": {
      "text/plain": [
       "<KnowledgeAgentRetrievalClient [endpoint='https://magaisearchswedencentral.search.windows.net', agent='agenticretriever']>"
      ]
     },
     "execution_count": 126,
     "metadata": {},
     "output_type": "execute_result"
    }
   ],
   "source": [
    "agent_client"
   ]
  },
  {
   "cell_type": "code",
   "execution_count": 127,
   "id": "65eddd16",
   "metadata": {},
   "outputs": [],
   "source": [
    "\n",
    "retrieval_result = agent_client.retrieve(\n",
    "    retrieval_request=KnowledgeAgentRetrievalRequest(\n",
    "        messages=[KnowledgeAgentMessage(role=msg[\"role\"], content=[KnowledgeAgentMessageTextContent(text=msg[\"content\"])]) for msg in messages if msg[\"role\"] != \"system\"],\n",
    "        target_index_params=[KnowledgeAgentIndexParams(index_name=index_name, reranker_threshold=2.5)]\n",
    "    )\n",
    ")\n",
    "\n"
   ]
  },
  {
   "cell_type": "code",
   "execution_count": 128,
   "id": "85b409e8",
   "metadata": {},
   "outputs": [],
   "source": [
    "\n",
    "messages.append({\n",
    "    \"role\": \"assistant\",\n",
    "    \"content\": retrieval_result.response[0].content[0].text\n",
    "})"
   ]
  },
  {
   "cell_type": "code",
   "execution_count": 129,
   "id": "b1741ad7",
   "metadata": {},
   "outputs": [
    {
     "data": {
      "text/plain": [
       "<azure.search.documents.agent._generated.models._models_py3.KnowledgeAgentRetrievalResponse at 0x27586a280d0>"
      ]
     },
     "execution_count": 129,
     "metadata": {},
     "output_type": "execute_result"
    }
   ],
   "source": [
    "retrieval_result"
   ]
  },
  {
   "cell_type": "code",
   "execution_count": 130,
   "id": "163e54ba",
   "metadata": {},
   "outputs": [
    {
     "name": "stdout",
     "output_type": "stream",
     "text": [
      "dict_keys(['response', 'activity', 'references'])\n"
     ]
    }
   ],
   "source": [
    "print(retrieval_result.as_dict().keys())"
   ]
  },
  {
   "cell_type": "code",
   "execution_count": 131,
   "id": "c1562cb0",
   "metadata": {},
   "outputs": [],
   "source": [
    "retrival_response = retrieval_result.as_dict().get(\"response\")\n",
    "\n",
    "retrival_activity = retrieval_result.as_dict().get(\"activity\")\n",
    "\n",
    "retrival_references = retrieval_result.as_dict().get(\"references\")"
   ]
  },
  {
   "cell_type": "code",
   "execution_count": 132,
   "id": "290f5926",
   "metadata": {},
   "outputs": [
    {
     "data": {
      "text/plain": [
       "[{'id': 0,\n",
       "  'type': 'ModelQueryPlanning',\n",
       "  'input_tokens': 1240,\n",
       "  'output_tokens': 506},\n",
       " {'id': 1,\n",
       "  'type': 'AzureSearchQuery',\n",
       "  'target_index': 'multimodal-rag',\n",
       "  'query': {'search': 'What is the role of a project manager in a company?'},\n",
       "  'query_time': '2025-06-04T01:03:28.534Z',\n",
       "  'count': 1,\n",
       "  'elapsed_ms': 1801},\n",
       " {'id': 2,\n",
       "  'type': 'AzureSearchQuery',\n",
       "  'target_index': 'multimodal-rag',\n",
       "  'query': {'search': 'What is the role of a CEO in a company?'},\n",
       "  'query_time': '2025-06-04T01:03:30.190Z',\n",
       "  'count': 3,\n",
       "  'elapsed_ms': 1645},\n",
       " {'id': 3,\n",
       "  'type': 'AzureSearchQuery',\n",
       "  'target_index': 'multimodal-rag',\n",
       "  'query': {'search': 'How does the importance of a project manager compare to that of a CEO in a company?'},\n",
       "  'query_time': '2025-06-04T01:03:31.792Z',\n",
       "  'count': 0,\n",
       "  'elapsed_ms': 1602},\n",
       " {'id': 4, 'type': 'AzureSearchSemanticRanker', 'input_tokens': 78938}]"
      ]
     },
     "execution_count": 132,
     "metadata": {},
     "output_type": "execute_result"
    }
   ],
   "source": [
    "retrival_activity"
   ]
  },
  {
   "cell_type": "code",
   "execution_count": 133,
   "id": "c9605e05",
   "metadata": {},
   "outputs": [
    {
     "data": {
      "text/plain": [
       "[{'type': 'AzureSearchDoc',\n",
       "  'id': '1',\n",
       "  'activity_source': 2,\n",
       "  'doc_key': '2e222e310abb_aHR0cHM6Ly9nb2R6aWxsYXN0b3JhZ2UuYmxvYi5jb3JlLndpbmRvd3MubmV0L2ludGVncmF0ZWR2ZWN0b3ItZG9jcy9yb2xlX2xpYnJhcnkucGRm0_pages_0'},\n",
       " {'type': 'AzureSearchDoc',\n",
       "  'id': '2',\n",
       "  'activity_source': 2,\n",
       "  'doc_key': '2e222e310abb_aHR0cHM6Ly9nb2R6aWxsYXN0b3JhZ2UuYmxvYi5jb3JlLndpbmRvd3MubmV0L2ludGVncmF0ZWR2ZWN0b3ItZG9jcy9yb2xlX2xpYnJhcnkucGRm0_pages_1'},\n",
       " {'type': 'AzureSearchDoc',\n",
       "  'id': '0',\n",
       "  'activity_source': 1,\n",
       "  'doc_key': '2e222e310abb_aHR0cHM6Ly9nb2R6aWxsYXN0b3JhZ2UuYmxvYi5jb3JlLndpbmRvd3MubmV0L2ludGVncmF0ZWR2ZWN0b3ItZG9jcy9yb2xlX2xpYnJhcnkucGRm0_pages_7'},\n",
       " {'type': 'AzureSearchDoc',\n",
       "  'id': '3',\n",
       "  'activity_source': 2,\n",
       "  'doc_key': '2e222e310abb_aHR0cHM6Ly9nb2R6aWxsYXN0b3JhZ2UuYmxvYi5jb3JlLndpbmRvd3MubmV0L2ludGVncmF0ZWR2ZWN0b3ItZG9jcy9yb2xlX2xpYnJhcnkucGRm0_pages_2'}]"
      ]
     },
     "execution_count": 133,
     "metadata": {},
     "output_type": "execute_result"
    }
   ],
   "source": [
    "retrival_references"
   ]
  },
  {
   "cell_type": "code",
   "execution_count": 141,
   "id": "34721d24",
   "metadata": {},
   "outputs": [
    {
     "data": {
      "text/plain": [
       "'2e222e310abb_aHR0cHM6Ly9nb2R6aWxsYXN0b3JhZ2UuYmxvYi5jb3JlLndpbmRvd3MubmV0L2ludGVncmF0ZWR2ZWN0b3ItZG9jcy9yb2xlX2xpYnJhcnkucGRm0_pages_0'"
      ]
     },
     "execution_count": 141,
     "metadata": {},
     "output_type": "execute_result"
    }
   ],
   "source": [
    "retrival_references[0][\"doc_key\"]"
   ]
  },
  {
   "cell_type": "code",
   "execution_count": 146,
   "id": "a5323ec4",
   "metadata": {},
   "outputs": [
    {
     "name": "stdout",
     "output_type": "stream",
     "text": [
      "> content_id: 2e222e310abb_aHR0cHM6Ly9nb2R6aWxsYXN0b3JhZ2UuYmxvYi5jb3JlLndpbmRvd3MubmV0L2ludGVncmF0ZWR2ZWN0b3ItZG9jcy9yb2xlX2xpYnJhcnkucGRm0_pages_0\n",
      "> text_document_id: aHR0cHM6Ly9nb2R6aWxsYXN0b3JhZ2UuYmxvYi5jb3JlLndpbmRvd3MubmV0L2ludGVncmF0ZWR2ZWN0b3ItZG9jcy9yb2xlX2xpYnJhcnkucGRm0\n",
      "> document_title: role_library.pdf\n",
      "> image_document_id: None\n",
      "> content_text: Roles Descriptions at \n",
      "\n",
      "Contoso Electronics  \n",
      "\n",
      " \n",
      "\n",
      " \n",
      " \n",
      "\n",
      " \n",
      "\n",
      " \n",
      "\n",
      "  \n",
      "\n",
      "\n",
      "\n",
      "\n",
      "\n",
      "This document contains information generated using a language model (Azure OpenAI). The \n",
      "\n",
      "information contained in this document is only for demonstration purposes and does not \n",
      "\n",
      "reflect the opinions or beliefs of Microsoft. Microsoft makes no representations or \n",
      "\n",
      "warranties of any kind, express or implied, about the completeness, accuracy, reliability, \n",
      "\n",
      "suitability or availability with respect to the information contained in this document.  \n",
      "\n",
      "All rights reserved to Microsoft \n",
      "\n",
      "  \n",
      "\n",
      "\n",
      "\n",
      "Contoso Electronics Role Library \n",
      "Last Updated: 2023-03-05 \n",
      "\n",
      "Chief Executive Officer \n",
      " \n",
      "\n",
      "Job Description: \n",
      "\n",
      " \n",
      "\n",
      "Position: Chief Executive Officer  \n",
      "\n",
      "Company: Contoso Electronics  \n",
      "\n",
      " \n",
      "\n",
      "Objective: \n",
      "\n",
      "The Chief Executive Officer (CEO) will be responsible for providing strategic direction and \n",
      "\n",
      "oversight to Contoso Electronics, to ensure the company’s long-term success and \n",
      "\n",
      "profitability.  \n",
      "\n",
      " \n",
      "\n",
      "Responsibilities: \n",
      "\n",
      "• Develop and implement strategy and objectives to ensure the financial success and long-\n",
      "\n",
      "term growth of the company  \n",
      "\n",
      "• Provide strategic guidance and direction to the executive team and manage the day-to-day \n",
      "\n",
      "operations of the company \n",
      "\n",
      "• Ensure compliance with all laws and regulations \n",
      "\n",
      "• Oversee the development of marketing and advertising strategies  \n",
      "\n",
      "• Develop and manage relationships with key stakeholders  \n",
      "\n",
      "• Represent the company in speaking engagements and other public events  \n",
      "\n",
      "• Manage and negotiate contracts with vendors and suppliers  \n",
      "\n",
      "• Monitor industry trends and identify opportunities for growth  \n",
      "\n",
      "• Develop and maintain a positive company culture  \n",
      "\n",
      " \n",
      "\n",
      "Qualifications:  \n",
      "\n",
      "• Bachelor’s degree in business or related field  \n",
      "\n",
      "• 10+ years of experience in executive management  \n",
      "\n",
      "• Proven success in leading and managing a team  \n",
      "\n",
      "• Strong problem-solving and analytical skills  \n",
      "\n",
      "• Excellent communication and interpersonal skills  \n",
      "\n",
      "• Ability to make strategic decisions\n",
      "> content_path: None\n",
      "> locationMetadata: None\n"
     ]
    }
   ],
   "source": [
    "doc_result  = search_client.get_document(retrival_references[0][\"doc_key\"])\n",
    "\n",
    "for k, v in doc_result.items():\n",
    "    if k in select_fields:\n",
    "        print(f\"> {k}: {v}\")  # Print first 100 characters of the field value\n"
   ]
  },
  {
   "cell_type": "code",
   "execution_count": 147,
   "id": "33e0bf69",
   "metadata": {},
   "outputs": [
    {
     "name": "stdout",
     "output_type": "stream",
     "text": [
      "dict_keys(['role', 'content'])\n",
      "assistant\n",
      "[{'type': 'text', 'text': '[{\"ref_id\":0,\"title\":\"role_library.pdf\",\"content\":\"efficiency, reduce costs, and maximize profitability.  \\\\n\\\\n \\\\n\\\\nResponsibilities: \\\\n\\\\n• Lead and manage the operations team to ensure effective delivery of products and \\\\n\\\\nservices to customers.  \\\\n\\\\n• Develop and implement strategies for improving operational practices and processes.  \\\\n\\\\n• Analyze financial data to identify areas of potential cost savings and profitability.  \\\\n\\\\n• Oversee the development and implementation of operational plans and budgets.  \\\\n\\\\n• Monitor operational performance to ensure compliance with established standards.  \\\\n\\\\n• Establish and maintain strong working relationships with internal and external \\\\n\\\\nstakeholders.  \\\\n\\\\n• Lead the development of operational policies and procedures.  \\\\n\\\\n• Develop short- and long-term goals and objectives to ensure organizational success.  \\\\n\\\\n• Identify and implement process improvements to increase efficiency.  \\\\n\\\\n• Ensure safety standards and legal regulations are met.  \\\\n\\\\n• Stay up-to-date with industry trends and best practices.  \\\\n\\\\n \\\\n\\\\nQualifications:  \\\\n\\\\n• Bachelor’s degree in business, operations, or a related field.  \\\\n\\\\n• 10+ years of experience in operations management and/or business operations.  \\\\n\\\\n• Proven track record of successfully leading operational teams and achieving \\\\n\\\\norganizational goals.  \\\\n\\\\n• Excellent problem-solving and decision-making skills.  \\\\n\\\\n• Strong project management and organizational skills.  \\\\n\\\\n• Ability to manage multiple tasks and prioritize effectively.  \\\\n\\\\n• Excellent communication and interpersonal skills.  \\\\n\\\\n• Proficiency in Microsoft Office and other relevant software.  \\\\n\\\\n• Ability to work in a fast-paced environment.  \\\\n\\\\n• Knowledge of industry regulations and safety standards. \\\\n\\\\nVice President of Human Resources \\\\n \\\\n\\\\nJob Title: Vice President of Human Resources \\\\n\\\\n \\\\n\\\\nCompany: Contoso Electronics \\\\n\\\\n \\\\n\\\\n\\\\n\\\\nLocation: Anywhere, USA \\\\n\\\\n \\\\n\\\\nPosition Summary: \\\\n\\\\n \\\\n\\\\nThe Vice President of Human Resources for Contoso Electronics will be responsible for\"},{\"ref_id\":1,\"title\":\"role_library.pdf\",\"content\":\"Roles Descriptions at \\\\n\\\\nContoso Electronics  \\\\n\\\\n \\\\n\\\\n \\\\n \\\\n\\\\n \\\\n\\\\n \\\\n\\\\n  \\\\n\\\\n\\\\n\\\\n\\\\n\\\\nThis document contains information generated using a language model (Azure OpenAI). The \\\\n\\\\ninformation contained in this document is only for demonstration purposes and does not \\\\n\\\\nreflect the opinions or beliefs of Microsoft. Microsoft makes no representations or \\\\n\\\\nwarranties of any kind, express or implied, about the completeness, accuracy, reliability, \\\\n\\\\nsuitability or availability with respect to the information contained in this document.  \\\\n\\\\nAll rights reserved to Microsoft \\\\n\\\\n  \\\\n\\\\n\\\\n\\\\nContoso Electronics Role Library \\\\nLast Updated: 2023-03-05 \\\\n\\\\nChief Executive Officer \\\\n \\\\n\\\\nJob Description: \\\\n\\\\n \\\\n\\\\nPosition: Chief Executive Officer  \\\\n\\\\nCompany: Contoso Electronics  \\\\n\\\\n \\\\n\\\\nObjective: \\\\n\\\\nThe Chief Executive Officer (CEO) will be responsible for providing strategic direction and \\\\n\\\\noversight to Contoso Electronics, to ensure the company’s long-term success and \\\\n\\\\nprofitability.  \\\\n\\\\n \\\\n\\\\nResponsibilities: \\\\n\\\\n• Develop and implement strategy and objectives to ensure the financial success and long-\\\\n\\\\nterm growth of the company  \\\\n\\\\n• Provide strategic guidance and direction to the executive team and manage the day-to-day \\\\n\\\\noperations of the company \\\\n\\\\n• Ensure compliance with all laws and regulations \\\\n\\\\n• Oversee the development of marketing and advertising strategies  \\\\n\\\\n• Develop and manage relationships with key stakeholders  \\\\n\\\\n• Represent the company in speaking engagements and other public events  \\\\n\\\\n• Manage and negotiate contracts with vendors and suppliers  \\\\n\\\\n• Monitor industry trends and identify opportunities for growth  \\\\n\\\\n• Develop and maintain a positive company culture  \\\\n\\\\n \\\\n\\\\nQualifications:  \\\\n\\\\n• Bachelor’s degree in business or related field  \\\\n\\\\n• 10+ years of experience in executive management  \\\\n\\\\n• Proven success in leading and managing a team  \\\\n\\\\n• Strong problem-solving and analytical skills  \\\\n\\\\n• Excellent communication and interpersonal skills  \\\\n\\\\n• Ability to make strategic decisions\"},{\"ref_id\":2,\"title\":\"role_library.pdf\",\"content\":\"• Proven success in leading and managing a team  \\\\n\\\\n• Strong problem-solving and analytical skills  \\\\n\\\\n• Excellent communication and interpersonal skills  \\\\n\\\\n• Ability to make strategic decisions  \\\\n\\\\n• Knowledge of business finances  \\\\n\\\\n• Knowledge of business operations  \\\\n\\\\n• Knowledge of industry trends  \\\\n\\\\n• Knowledge of applicable laws and regulations \\\\n\\\\n\\\\n\\\\nChief Operating Officer \\\\n \\\\n\\\\nJob Title: Chief Operating Officer \\\\n\\\\n \\\\n\\\\nCompany: Contoso Electronics \\\\n\\\\n \\\\n\\\\nLocation: Any major city \\\\n\\\\n \\\\n\\\\nPosition Summary: \\\\n\\\\n \\\\n\\\\nThe Chief Operating Officer (COO) at Contoso Electronics will be responsible for overseeing \\\\n\\\\nthe day-to-day operations of the entire organization and ensuring that the organization is \\\\n\\\\noperating in an efficient and effective manner. The COO will report to the CEO and will \\\\n\\\\ncollaborate with the executive team to provide strategic direction and guidance for the \\\\n\\\\norganization.  \\\\n\\\\n \\\\n\\\\nResponsibilities: \\\\n\\\\n \\\\n\\\\n• Develop, implement, and monitor strategies, policies, and procedures for the \\\\n\\\\norganization’s short-term and long-term success  \\\\n\\\\n• Oversee daily operations and ensure that all departments are meeting their goals and \\\\n\\\\nobjectives  \\\\n\\\\n• Create and manage key performance indicators for all departments  \\\\n\\\\n• Analyze existing systems and processes, identify areas of improvement, and implement \\\\n\\\\nsolutions  \\\\n\\\\n• Develop and nurture relationships with key stakeholders, including customers and \\\\n\\\\nvendors  \\\\n\\\\n• Act as an advisor to the CEO, board of directors, and executive team  \\\\n\\\\n• Prepare and present reports to the board of directors  \\\\n\\\\n• Manage the budget and ensure that the organization is operating within its means  \\\\n\\\\n• Ensure compliance with all relevant laws and regulations  \\\\n\\\\n \\\\n\\\\nQualifications: \\\\n\\\\n \\\\n\\\\n• Bachelor’s degree in business administration, management, or a related field  \\\\n\\\\n• Proven experience as a COO or senior operations executive  \\\\n\\\\n• Demonstrated ability to develop and implement strategies, policies, and procedures\"},{\"ref_id\":3,\"title\":\"role_library.pdf\",\"content\":\"management, or a related field  \\\\n\\\\n• Proven experience as a COO or senior operations executive  \\\\n\\\\n• Demonstrated ability to develop and implement strategies, policies, and procedures  \\\\n\\\\n• Excellent organizational and project management skills  \\\\n\\\\n• Strong problem-solving and decision-making skills  \\\\n\\\\n• Excellent communication and interpersonal skills  \\\\n\\\\n• Ability to work independently and in a team environment  \\\\n\\\\n• Knowledge of relevant laws and regulations  \\\\n\\\\n• Proficiency in Microsoft Office and other relevant software \\\\n\\\\n\\\\n\\\\nChief Financial Officer \\\\n \\\\n\\\\nJOB DESCRIPTION: Chief Financial Officer \\\\n\\\\n \\\\n\\\\nCompany: Contoso Electronics \\\\n\\\\n \\\\n\\\\nPosition Summary: \\\\n\\\\n \\\\n\\\\nThe Chief Financial Officer (CFO) is a key member of Contoso Electronics’ leadership team. \\\\n\\\\nThe CFO is responsible for providing strategic direction, support, and guidance to Contoso \\\\n\\\\nElectronics’ financial operations, ensuring the financial health of the organization. The CFO \\\\n\\\\nwill lead all financial operations, including accounting, financial planning and analysis, \\\\n\\\\nbudgeting, forecasting, financial reporting, and risk management. \\\\n\\\\n \\\\n\\\\nResponsibilities:  \\\\n\\\\n \\\\n\\\\n• Develop and implement strategies to ensure the financial stability and growth of the \\\\n\\\\norganization. \\\\n\\\\n• Oversee the organization’s financial operations, including accounting, budgeting, financial \\\\n\\\\nplanning and analysis, forecasting, financial reporting, and risk management. \\\\n\\\\n• Lead the preparation of annual and quarterly financial statements and other reports. \\\\n\\\\n• Manage the organization’s relationships with banks, investors, auditors, and other \\\\n\\\\nexternal financial partners. \\\\n\\\\n• Ensure compliance with all applicable laws, regulations, and internal policies. \\\\n\\\\n• Monitor cash flow, investments, and other financial metrics and develop strategies to \\\\n\\\\noptimize performance. \\\\n\\\\n• Analyze financial data and generate recommendations to maximize profits, minimize \\\\n\\\\ncosts, and improve overall financial performance.\"}]'}]\n"
     ]
    }
   ],
   "source": [
    "for r in retrival_response:\n",
    "    print(r.keys())\n",
    "    print(r.get('role'))\n",
    "    print(r.get(\"content\"))\n"
   ]
  },
  {
   "cell_type": "code",
   "execution_count": 148,
   "id": "ff8f1fa6",
   "metadata": {},
   "outputs": [
    {
     "name": "stdout",
     "output_type": "stream",
     "text": [
      "Successfully parsed JSON array with 4 items\n",
      "\n",
      "****************Result 1:\n",
      "ref_id: 0\n",
      "title: role_library.pdf\n",
      "content: effic...\n",
      "\n",
      "****************Result 2:\n",
      "ref_id: 1\n",
      "title: role_library.pdf\n",
      "content: Roles...\n",
      "\n",
      "****************Result 3:\n",
      "ref_id: 2\n",
      "title: role_library.pdf\n",
      "content: • Pro...\n",
      "\n",
      "****************Result 4:\n",
      "ref_id: 3\n",
      "title: role_library.pdf\n",
      "content: manag...\n"
     ]
    }
   ],
   "source": [
    "import json\n",
    "\n",
    "# Extract the text content from the retrieval result\n",
    "json_text = retrieval_result.response[0].content[0].text\n",
    "\n",
    "# Parse the JSON array\n",
    "try:\n",
    "    parsed_results = json.loads(json_text)\n",
    "    print(f\"Successfully parsed JSON array with {len(parsed_results)} items\")\n",
    "\n",
    "    # Display the first result\n",
    "    if parsed_results:\n",
    "        for i, result in enumerate(parsed_results):\n",
    "            print(f\"\\n****************Result {i + 1}:\")\n",
    "            for key, value in result.items():\n",
    "                # Truncate long values for display\n",
    "                if isinstance(value, str) and len(value) > 100:\n",
    "                    value = value[:5] + \"...\"\n",
    "                print(f\"{key}: {value}\")\n",
    "\n",
    "except json.JSONDecodeError as e:\n",
    "    print(f\"Error parsing JSON: {e}\")\n",
    "    print(\"Raw text:\")\n",
    "    print(json_text)"
   ]
  },
  {
   "cell_type": "code",
   "execution_count": 149,
   "id": "133f9e9b",
   "metadata": {},
   "outputs": [
    {
     "data": {
      "text/plain": [
       "[{'ref_id': 0,\n",
       "  'title': 'role_library.pdf',\n",
       "  'content': 'efficiency, reduce costs, and maximize profitability.  \\n\\n \\n\\nResponsibilities: \\n\\n• Lead and manage the operations team to ensure effective delivery of products and \\n\\nservices to customers.  \\n\\n• Develop and implement strategies for improving operational practices and processes.  \\n\\n• Analyze financial data to identify areas of potential cost savings and profitability.  \\n\\n• Oversee the development and implementation of operational plans and budgets.  \\n\\n• Monitor operational performance to ensure compliance with established standards.  \\n\\n• Establish and maintain strong working relationships with internal and external \\n\\nstakeholders.  \\n\\n• Lead the development of operational policies and procedures.  \\n\\n• Develop short- and long-term goals and objectives to ensure organizational success.  \\n\\n• Identify and implement process improvements to increase efficiency.  \\n\\n• Ensure safety standards and legal regulations are met.  \\n\\n• Stay up-to-date with industry trends and best practices.  \\n\\n \\n\\nQualifications:  \\n\\n• Bachelor’s degree in business, operations, or a related field.  \\n\\n• 10+ years of experience in operations management and/or business operations.  \\n\\n• Proven track record of successfully leading operational teams and achieving \\n\\norganizational goals.  \\n\\n• Excellent problem-solving and decision-making skills.  \\n\\n• Strong project management and organizational skills.  \\n\\n• Ability to manage multiple tasks and prioritize effectively.  \\n\\n• Excellent communication and interpersonal skills.  \\n\\n• Proficiency in Microsoft Office and other relevant software.  \\n\\n• Ability to work in a fast-paced environment.  \\n\\n• Knowledge of industry regulations and safety standards. \\n\\nVice President of Human Resources \\n \\n\\nJob Title: Vice President of Human Resources \\n\\n \\n\\nCompany: Contoso Electronics \\n\\n \\n\\n\\n\\nLocation: Anywhere, USA \\n\\n \\n\\nPosition Summary: \\n\\n \\n\\nThe Vice President of Human Resources for Contoso Electronics will be responsible for'},\n",
       " {'ref_id': 1,\n",
       "  'title': 'role_library.pdf',\n",
       "  'content': 'Roles Descriptions at \\n\\nContoso Electronics  \\n\\n \\n\\n \\n \\n\\n \\n\\n \\n\\n  \\n\\n\\n\\n\\n\\nThis document contains information generated using a language model (Azure OpenAI). The \\n\\ninformation contained in this document is only for demonstration purposes and does not \\n\\nreflect the opinions or beliefs of Microsoft. Microsoft makes no representations or \\n\\nwarranties of any kind, express or implied, about the completeness, accuracy, reliability, \\n\\nsuitability or availability with respect to the information contained in this document.  \\n\\nAll rights reserved to Microsoft \\n\\n  \\n\\n\\n\\nContoso Electronics Role Library \\nLast Updated: 2023-03-05 \\n\\nChief Executive Officer \\n \\n\\nJob Description: \\n\\n \\n\\nPosition: Chief Executive Officer  \\n\\nCompany: Contoso Electronics  \\n\\n \\n\\nObjective: \\n\\nThe Chief Executive Officer (CEO) will be responsible for providing strategic direction and \\n\\noversight to Contoso Electronics, to ensure the company’s long-term success and \\n\\nprofitability.  \\n\\n \\n\\nResponsibilities: \\n\\n• Develop and implement strategy and objectives to ensure the financial success and long-\\n\\nterm growth of the company  \\n\\n• Provide strategic guidance and direction to the executive team and manage the day-to-day \\n\\noperations of the company \\n\\n• Ensure compliance with all laws and regulations \\n\\n• Oversee the development of marketing and advertising strategies  \\n\\n• Develop and manage relationships with key stakeholders  \\n\\n• Represent the company in speaking engagements and other public events  \\n\\n• Manage and negotiate contracts with vendors and suppliers  \\n\\n• Monitor industry trends and identify opportunities for growth  \\n\\n• Develop and maintain a positive company culture  \\n\\n \\n\\nQualifications:  \\n\\n• Bachelor’s degree in business or related field  \\n\\n• 10+ years of experience in executive management  \\n\\n• Proven success in leading and managing a team  \\n\\n• Strong problem-solving and analytical skills  \\n\\n• Excellent communication and interpersonal skills  \\n\\n• Ability to make strategic decisions'},\n",
       " {'ref_id': 2,\n",
       "  'title': 'role_library.pdf',\n",
       "  'content': '• Proven success in leading and managing a team  \\n\\n• Strong problem-solving and analytical skills  \\n\\n• Excellent communication and interpersonal skills  \\n\\n• Ability to make strategic decisions  \\n\\n• Knowledge of business finances  \\n\\n• Knowledge of business operations  \\n\\n• Knowledge of industry trends  \\n\\n• Knowledge of applicable laws and regulations \\n\\n\\n\\nChief Operating Officer \\n \\n\\nJob Title: Chief Operating Officer \\n\\n \\n\\nCompany: Contoso Electronics \\n\\n \\n\\nLocation: Any major city \\n\\n \\n\\nPosition Summary: \\n\\n \\n\\nThe Chief Operating Officer (COO) at Contoso Electronics will be responsible for overseeing \\n\\nthe day-to-day operations of the entire organization and ensuring that the organization is \\n\\noperating in an efficient and effective manner. The COO will report to the CEO and will \\n\\ncollaborate with the executive team to provide strategic direction and guidance for the \\n\\norganization.  \\n\\n \\n\\nResponsibilities: \\n\\n \\n\\n• Develop, implement, and monitor strategies, policies, and procedures for the \\n\\norganization’s short-term and long-term success  \\n\\n• Oversee daily operations and ensure that all departments are meeting their goals and \\n\\nobjectives  \\n\\n• Create and manage key performance indicators for all departments  \\n\\n• Analyze existing systems and processes, identify areas of improvement, and implement \\n\\nsolutions  \\n\\n• Develop and nurture relationships with key stakeholders, including customers and \\n\\nvendors  \\n\\n• Act as an advisor to the CEO, board of directors, and executive team  \\n\\n• Prepare and present reports to the board of directors  \\n\\n• Manage the budget and ensure that the organization is operating within its means  \\n\\n• Ensure compliance with all relevant laws and regulations  \\n\\n \\n\\nQualifications: \\n\\n \\n\\n• Bachelor’s degree in business administration, management, or a related field  \\n\\n• Proven experience as a COO or senior operations executive  \\n\\n• Demonstrated ability to develop and implement strategies, policies, and procedures'},\n",
       " {'ref_id': 3,\n",
       "  'title': 'role_library.pdf',\n",
       "  'content': 'management, or a related field  \\n\\n• Proven experience as a COO or senior operations executive  \\n\\n• Demonstrated ability to develop and implement strategies, policies, and procedures  \\n\\n• Excellent organizational and project management skills  \\n\\n• Strong problem-solving and decision-making skills  \\n\\n• Excellent communication and interpersonal skills  \\n\\n• Ability to work independently and in a team environment  \\n\\n• Knowledge of relevant laws and regulations  \\n\\n• Proficiency in Microsoft Office and other relevant software \\n\\n\\n\\nChief Financial Officer \\n \\n\\nJOB DESCRIPTION: Chief Financial Officer \\n\\n \\n\\nCompany: Contoso Electronics \\n\\n \\n\\nPosition Summary: \\n\\n \\n\\nThe Chief Financial Officer (CFO) is a key member of Contoso Electronics’ leadership team. \\n\\nThe CFO is responsible for providing strategic direction, support, and guidance to Contoso \\n\\nElectronics’ financial operations, ensuring the financial health of the organization. The CFO \\n\\nwill lead all financial operations, including accounting, financial planning and analysis, \\n\\nbudgeting, forecasting, financial reporting, and risk management. \\n\\n \\n\\nResponsibilities:  \\n\\n \\n\\n• Develop and implement strategies to ensure the financial stability and growth of the \\n\\norganization. \\n\\n• Oversee the organization’s financial operations, including accounting, budgeting, financial \\n\\nplanning and analysis, forecasting, financial reporting, and risk management. \\n\\n• Lead the preparation of annual and quarterly financial statements and other reports. \\n\\n• Manage the organization’s relationships with banks, investors, auditors, and other \\n\\nexternal financial partners. \\n\\n• Ensure compliance with all applicable laws, regulations, and internal policies. \\n\\n• Monitor cash flow, investments, and other financial metrics and develop strategies to \\n\\noptimize performance. \\n\\n• Analyze financial data and generate recommendations to maximize profits, minimize \\n\\ncosts, and improve overall financial performance.'}]"
      ]
     },
     "execution_count": 149,
     "metadata": {},
     "output_type": "execute_result"
    }
   ],
   "source": [
    "parsed_results"
   ]
  },
  {
   "cell_type": "code",
   "execution_count": null,
   "id": "79a8c6fb",
   "metadata": {},
   "outputs": [],
   "source": []
  },
  {
   "cell_type": "code",
   "execution_count": null,
   "id": "83a14363",
   "metadata": {},
   "outputs": [],
   "source": []
  }
 ],
 "metadata": {
  "kernelspec": {
   "display_name": "searchvector",
   "language": "python",
   "name": "python3"
  },
  "language_info": {
   "codemirror_mode": {
    "name": "ipython",
    "version": 3
   },
   "file_extension": ".py",
   "mimetype": "text/x-python",
   "name": "python",
   "nbconvert_exporter": "python",
   "pygments_lexer": "ipython3",
   "version": "3.11.8"
  }
 },
 "nbformat": 4,
 "nbformat_minor": 5
}
