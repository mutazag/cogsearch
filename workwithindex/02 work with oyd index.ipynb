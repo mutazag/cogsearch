{
 "cells": [
  {
   "cell_type": "code",
   "execution_count": 40,
   "metadata": {},
   "outputs": [],
   "source": [
    "from dotenv import load_dotenv\n",
    "from azure.identity import DefaultAzureCredential\n",
    "from azure.core.credentials import AzureKeyCredential\n",
    "import os\n",
    "import json"
   ]
  },
  {
   "cell_type": "code",
   "execution_count": 41,
   "metadata": {},
   "outputs": [],
   "source": [
    "\n",
    "load_dotenv(override=True) # take environment variables from .env.\n",
    "\n",
    "# Variables not used here do not need to be updated in your .env file\n",
    "endpoint = os.environ[\"AZURE_SEARCH_SERVICE_ENDPOINT\"]\n",
    "credential = AzureKeyCredential(os.environ[\"AZURE_SEARCH_ADMIN_KEY\"]) if len(os.environ[\"AZURE_SEARCH_ADMIN_KEY\"]) > 0 else DefaultAzureCredential()\n",
    "index_name = os.environ[\"AZURE_SEARCH_INDEX\"]\n",
    "blob_connection_string = os.environ[\"BLOB_CONNECTION_STRING\"]\n",
    "blob_container_name = os.environ[\"BLOB_CONTAINER_NAME\"]\n",
    "azure_openai_endpoint = os.environ[\"AZURE_OPENAI_ENDPOINT\"]\n",
    "azure_openai_key = os.environ[\"AZURE_OPENAI_KEY\"] if len(os.environ[\"AZURE_OPENAI_KEY\"]) > 0 else None\n",
    "azure_openai_embedding_deployment = os.environ[\"AZURE_OPENAI_EMBEDDING_DEPLOYMENT\"]\n",
    "\n",
    "\n",
    "index_name_oyd = os.environ[\"AZURE_SEARCH_INDEX_OYD\"]"
   ]
  },
  {
   "cell_type": "code",
   "execution_count": 42,
   "metadata": {},
   "outputs": [
    {
     "name": "stdout",
     "output_type": "stream",
     "text": [
      "{'document_count': 663, 'storage_size': 19386539, 'vector_index_size': 4071272}\n"
     ]
    }
   ],
   "source": [
    "import azure.search as azsearch\n",
    "from azure.search.documents.indexes import SearchIndexClient\n",
    "from azure.search.documents.indexes.models import AnalyzeTextOptions, LexicalAnalyzerName\n",
    "\n",
    "search_index_client = SearchIndexClient(endpoint, credential=credential)\n",
    "print(search_index_client.get_index_statistics(index_name))\n",
    "\n",
    "search_client = search_index_client.get_search_client(index_name_oyd)\n",
    "\n"
   ]
  },
  {
   "cell_type": "code",
   "execution_count": 43,
   "metadata": {},
   "outputs": [
    {
     "name": "stdout",
     "output_type": "stream",
     "text": [
      "1\n",
      "None\n",
      "None\n"
     ]
    }
   ],
   "source": [
    "\n",
    "search_results = search_client.search(\n",
    "    search_text=\"eye\",\n",
    "    include_total_count=True,\n",
    "    select=['content', 'title', 'id', 'filepath', 'meta_json_string', 'url'] # not including contentVector\n",
    "    )\n",
    "\n",
    "\n",
    "print(search_results.get_count())\n",
    "print(search_results.get_facets())\n",
    "print(search_results.get_coverage())"
   ]
  },
  {
   "cell_type": "code",
   "execution_count": 36,
   "metadata": {},
   "outputs": [
    {
     "name": "stdout",
     "output_type": "stream",
     "text": [
      "{\n",
      "  \"content\": \"Title: Northwind_Health_Plus_Benefits_Details.pdfIn certain cases, Northwind Health may require prior authorization even if the service is not \\nlisted above. Your doctor or health care provider should contact Northwind Health to \\ndetermine if prior authorization is required prior to providing care.  \\nExceptions to Prior Authorization  \\nThere are certain services and treatments that are exempt from prior authorizatio n. These \\ninclude:  \\n\\u2022 Routine office visits  \\n\\u2022 Immunizations  \\n\\u2022 X-Ray services  \\n\\u2022 Emergency services  \\n\\u2022 Family planning services  \\n\\u2022 Maternity services  \\n\\u2022 Services and supplies related to diabetes  \\n\\u2022 Preventive care services  \\n\\u2022 Mental health and substance abuse services  \\n\\u2022 Routine eye exams  \\n\\u2022 Routine dental exams  \\nIt is important to note that the list of services and treatments that are exempt from prior \\nauthorization is subject to change. Your doctor or health care provider should contact \\nNorthwind Health to deter mine if prior authorization is required prior to providing care.  \\nTips for Obtaining Prior Authorization  \\nWhen obtaining prior authorization for a service or treatment, it is important to provide \\nNorthwind Health with all of the necessary information. This i ncludes:  \\n\\u2022 The patient\\u2019s diagnosis  \\n\\u2022 The proposed treatment  \\n\\u2022 The anticipated duration of the treatment  \\n\\u2022 Any other relevant information that may be requested by Northwind Health  \",\n",
      "  \"title\": \"\",\n",
      "  \"id\": \"Tm9ydGh3aW5kX0hlYWx0aF9QbHVzX0JlbmVmaXRzX0RldGFpbHMucGRmNjQ=\",\n",
      "  \"filepath\": \"Northwind_Health_Plus_Benefits_Details.pdf\",\n",
      "  \"meta_json_string\": \"{\\\"page_number\\\": 64, \\\"stats\\\": {\\\"tiktokens\\\": 268, \\\"chars\\\": 1405, \\\"lines\\\": 27}, \\\"source\\\": {\\\"filename\\\": \\\"Northwind_Health_Plus_Benefits_Details.pdf\\\", \\\"url\\\": \\\"Northwind_Health_Plus_Benefits_Details.pdf\\\", \\\"mtime\\\": 1701336992.0}, \\\"content_hash\\\": \\\"dc3250d47a2e120b571ace1db1057da4696576cc9ea83298db482379cdb7cc79\\\"}\",\n",
      "  \"url\": \"Northwind_Health_Plus_Benefits_Details.pdf\",\n",
      "  \"@search.score\": 3.1926556,\n",
      "  \"@search.reranker_score\": null,\n",
      "  \"@search.highlights\": null,\n",
      "  \"@search.captions\": null\n",
      "}\n",
      "meta_json_string >> \n",
      " {\n",
      "    \"page_number\": 64,\n",
      "    \"stats\": {\n",
      "        \"tiktokens\": 268,\n",
      "        \"chars\": 1405,\n",
      "        \"lines\": 27\n",
      "    },\n",
      "    \"source\": {\n",
      "        \"filename\": \"Northwind_Health_Plus_Benefits_Details.pdf\",\n",
      "        \"url\": \"Northwind_Health_Plus_Benefits_Details.pdf\",\n",
      "        \"mtime\": 1701336992.0\n",
      "    },\n",
      "    \"content_hash\": \"dc3250d47a2e120b571ace1db1057da4696576cc9ea83298db482379cdb7cc79\"\n",
      "}\n"
     ]
    }
   ],
   "source": [
    "for r in search_results: \n",
    "\n",
    "    print(json.dumps(r, indent=2))\n",
    "    print(\"meta_json_string >> \\n\", json.dumps(json.loads(r[\"meta_json_string\"]), indent=4))\n"
   ]
  },
  {
   "cell_type": "code",
   "execution_count": 64,
   "metadata": {},
   "outputs": [
    {
     "name": "stdout",
     "output_type": "stream",
     "text": [
      "\n",
      "Fields >>>\n",
      "content (Edm.String)\n",
      "url (Edm.String)\n",
      "filepath (Edm.String)\n",
      "title (Edm.String)\n",
      "meta_json_string (Edm.String)\n",
      "contentVector (Collection(Edm.Single))\n",
      "id (Edm.String)\n",
      "\n",
      "vector algorithms >>>\n",
      "contentVector_config \n",
      "\n",
      "vector vectorizers >>>\n",
      "{}\n"
     ]
    }
   ],
   "source": [
    "search_index = search_index_client.get_index(index_name_oyd)\n",
    "\n",
    "search_index.as_dict()\n",
    "\n",
    "\n",
    "print('\\nFields >>>')\n",
    "for f in search_index.fields: \n",
    "    print(f\"{f.name} ({f.type})\")\n",
    "\n",
    "\n",
    "search_index_vector_search = search_index.vector_search\n",
    "\n",
    "print('\\nvector algorithms >>>')\n",
    "for algo in search_index_vector_search.algorithms: \n",
    "    print(f\"{algo.name} \")\n",
    "print('\\nvector vectorizers >>>')\n",
    "for vec in search_index_vector_search.vectorizers: \n",
    "    print(f\"{vec.name} \")\n",
    "\n",
    "\n",
    "print(search_index.additional_properties)"
   ]
  }
 ],
 "metadata": {
  "kernelspec": {
   "display_name": "searchvector",
   "language": "python",
   "name": "python3"
  },
  "language_info": {
   "codemirror_mode": {
    "name": "ipython",
    "version": 3
   },
   "file_extension": ".py",
   "mimetype": "text/x-python",
   "name": "python",
   "nbconvert_exporter": "python",
   "pygments_lexer": "ipython3",
   "version": "3.11.8"
  }
 },
 "nbformat": 4,
 "nbformat_minor": 2
}
