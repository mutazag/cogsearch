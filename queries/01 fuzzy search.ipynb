{
 "cells": [
  {
   "cell_type": "code",
   "execution_count": 2,
   "metadata": {},
   "outputs": [],
   "source": [
    "from dotenv import load_dotenv\n",
    "from azure.identity import DefaultAzureCredential\n",
    "from azure.core.credentials import AzureKeyCredential\n",
    "import os\n",
    "import json"
   ]
  },
  {
   "cell_type": "code",
   "execution_count": 3,
   "metadata": {},
   "outputs": [],
   "source": [
    "import sys\n",
    "sys.path.append(\"..\")\n",
    "from  helpers.searchhlpr import get_search_client"
   ]
  },
  {
   "cell_type": "code",
   "execution_count": 4,
   "metadata": {},
   "outputs": [
    {
     "name": "stdout",
     "output_type": "stream",
     "text": [
      "index_name:  integrated-vectorization-index-codefirst-suggesters\n",
      "{'document_count': 663, 'storage_size': 27729265, 'vector_index_size': 4072892}\n"
     ]
    }
   ],
   "source": [
    "search_client = get_search_client(\"AZURE_SEARCH_INDEX_SG\")"
   ]
  },
  {
   "cell_type": "code",
   "execution_count": 5,
   "metadata": {},
   "outputs": [
    {
     "name": "stdout",
     "output_type": "stream",
     "text": [
      "{\n",
      "  \"chunk_id\": \"0c1ca12091fe_aHR0cHM6Ly9nb2R6aWxsYXN0b3JhZ2UuYmxvYi5jb3JlLndpbmRvd3MubmV0L2ludGVncmF0ZWR2ZWN0b3ItZG9jcy9QZXJrc1BsdXMucGRm0_pages_1\",\n",
      "  \"chunk\": \"equipment purchases \\n\\n\\u2022 Sports team fees \\n\\n\\u2022 Health retreats and spas \\n\\n\\u2022 Outdoor adventure activities (such as rock climbing, hiking, and kayaking) \\n\\n\\u2022 Group fitness classes (such as dance, martial arts, and cycling) \\n\\n\\u2022 Virtual fitness programs (such as online yoga and workout classes) \\n\\nIn addition to the wide range of fitness activities covered by PerksPlus, the program also covers a variety \\n\\nof lessons and experiences that promote health and wellness. Some of the lessons covered under \\n\\nPerksPlus include: \\n\\n\\u2022 Skiing and snowboarding lessons \\n\\n\\u2022 Scuba diving lessons \\n\\n\\u2022 Surfing lessons \\n\\n\\u2022 Horseback riding lessons \\n\\nThese lessons provide employees with the opportunity to try new things, challenge themselves, and \\n\\nimprove their physical skills. They are also a great way to relieve stress and have fun while staying active. \\n\\nWith PerksPlus, employees can choose from a variety of fitness programs to suit their individual needs \\n\\nand preferences. Whether you're looking to improve your physical fitness, reduce stress, or just have \\n\\nsome fun, PerksPlus has you covered. \\n\\nWhat is Not Covered? \\nIn addition to the wide range of activities covered by PerksPlus, there is also a list of things that are not \\n\\ncovered under the program. These include but are not limited to: \\n\\n\\u2022 Non-fitness related expenses \\n\\n\\u2022 Medical treatments and procedures \\n\\n\\u2022 Travel expenses (unless related to a fitness program) \\n\\n\\n\\n\\u2022 Food and supplements\",\n",
      "  \"@search.score\": 3.4816585,\n",
      "  \"@search.reranker_score\": null,\n",
      "  \"@search.highlights\": {\n",
      "    \"chunk\": [\n",
      "      \"equipment purchases \\n\\n\\u2022 Sports team fees \\n\\n\\u2022 Health retreats and spas \\n\\n\\u2022 Outdoor adventure activities (such as rock climbing, hiking, and kayaking) \\n\\n\\u2022 Group fitness classes (such as dance, martial arts, and cycling) \\n\\n\\u2022 Virtual fitness <em>programs</em> (such as online yoga and workout classes) \\n\\nIn addition to the wide range of fitness activities covered by PerksPlus, the <em>program</em> also covers a variety \\n\\nof lessons and experiences that promote health and wellness.\",\n",
      "      \"With PerksPlus, employees can choose from a variety of fitness <em>programs</em> to suit their individual needs \\n\\nand preferences.\",\n",
      "      \"In addition to the wide range of activities covered by PerksPlus, there is also a list of things that are not \\n\\ncovered under the <em>program</em>.\",\n",
      "      \"These include but are not limited to: \\n\\n\\u2022 Non-fitness related expenses \\n\\n\\u2022 Medical treatments and procedures \\n\\n\\u2022 Travel expenses (unless related to a fitness <em>program</em>) \\n\\n\\n\\n\\u2022 Food and supplements\"\n",
      "    ]\n",
      "  },\n",
      "  \"@search.captions\": null\n",
      "}\n",
      "{\n",
      "  \"chunk_id\": \"6e33aeca094f_aHR0cHM6Ly9nb2R6aWxsYXN0b3JhZ2UuYmxvYi5jb3JlLndpbmRvd3MubmV0L2ludGVncmF0ZWR2ZWN0b3ItZG9jcy9Ob3J0aHdpbmRfU3RhbmRhcmRfQmVuZWZpdHNfRGV0YWlscy5wZGY1_pages_117\",\n",
      "  \"chunk\": \"who can provide you with the knowledge, skills, and tools to manage \\n\\nyour health  \\n\\n\\u2022 Specialists who can provide additional support, such as nutrition and lifestyle counseling  \\n\\nExceptions \\n\\nIt\\u2019s important to note that Northwind Standard does not cover emergency services, mental \\n\\nhealth and substance abuse services, or out-of-network services.  \\n\\nTips \\n\\nIf you\\u2019re looking to take advantage of Northwind Health\\u2019s personal health support \\n\\nprograms, here are a few tips to keep in mind:  \\n\\n\\u2022 Take advantage of the Care Coordinators who can help you find the right care and services  \\n\\n\\u2022 Make sure you develop a personalized plan with your Health Coach to achieve your health \\n\\ngoals  \\n\\n\\u2022 Utilize the Care Managers who can help you manage chronic conditions  \\n\\n\\n\\n\\u2022 Use the Health Educators who can provide you with the knowledge, skills, and tools to \\n\\nmanage your health  \\n\\n\\u2022 Make sure you get the support you need from Specialists who can provide additional \\n\\nsupport, such as nutrition and lifestyle counseling  \\n\\n\\u2022 Don\\u2019t forget to check if your plan covers emergency services, mental health and substance \\n\\nabuse services, or out-of-network services before you receive care  \\n\\nAt Northwind Health, we understand that taking charge of your health is essential. Our \\n\\npersonal health support programs are there to help you get the most out of your health \\n\\nbenefits and to ensure that you get the care you need. With our programs, you can access \\n\\npersonalized care teams, tailored resources, and additional support to help you manage \\n\\nchronic illnesses, injuries, and other health-related issues.  \\n\\nIf you have any questions about Northwind Health\\u2019s personal health support programs, \\n\\nplease don\\u2019t hesitate to contact us. Our team is here to help you make the most of your plan \\n\\nand get the care you need. \\n\\nChronic Condition Management \\n\\nCARE MANAGEMENT: Chronic Condition Management \\n\\nAt Contoso, we understand the importance of providing quality health care for our\",\n",
      "  \"@search.score\": 3.0936797,\n",
      "  \"@search.reranker_score\": null,\n",
      "  \"@search.highlights\": {\n",
      "    \"chunk\": [\n",
      "      \"Tips \\n\\nIf you\\u2019re looking to take advantage of Northwind Health\\u2019s personal health support \\n\\n<em>programs</em>, here are a few tips to keep in mind:  \\n\\n\\u2022 Take advantage of the Care Coordinators who can help you find the right care and services  \\n\\n\\u2022 Make sure you develop a personalized plan with your Health Coach to achieve your health \\n\\ngoals  \\n\\n\\u2022 Utilize the Care Managers who can help you manage chronic conditions  \\n\\n\\n\\n\\u2022 Use the Health Educators who can provide you with the knowledge, skills, and tools to \\n\\nmanage your health  \\n\\n\\u2022 Make sure you get the support you need from Specialists who can provide additional \\n\\nsupport, such as nutrition and lifestyle counseling  \\n\\n\\u2022 Don\\u2019t forget to check if your plan covers emergency services, mental health and substance \\n\\nabuse services, or out-of-network services before you receive care  \\n\\nAt Northwind Health, we understand that taking charge of your health is essential.\",\n",
      "      \"Our \\n\\npersonal health support <em>programs</em> are there to help you get the most out of your health \\n\\nbenefits and to ensure that you get the care you need.\",\n",
      "      \"With our <em>programs</em>, you can access \\n\\npersonalized care teams, tailored resources, and additional support to help you manage \\n\\nchronic illnesses, injuries, and other health-related issues.\",\n",
      "      \"If you have any questions about Northwind Health\\u2019s personal health support <em>programs</em>, \\n\\nplease don\\u2019t hesitate to contact us.\"\n",
      "    ]\n",
      "  },\n",
      "  \"@search.captions\": null\n",
      "}\n",
      "{\n",
      "  \"chunk_id\": \"7ede10bc8a35_aHR0cHM6Ly9nb2R6aWxsYXN0b3JhZ2UuYmxvYi5jb3JlLndpbmRvd3MubmV0L2ludGVncmF0ZWR2ZWN0b3ItZG9jcy9Ob3J0aHdpbmRfSGVhbHRoX1BsdXNfQmVuZWZpdHNfRGV0YWlscy5wZGY1_pages_119\",\n",
      "  \"chunk\": \"must be enrolled in Northwind Health Plus to be eligible for these programs. \\n\\n\\u2022These programs may not be available in all areas. \\n\\n\\u2022Some services may not be covered by Northwind Health Plus. \\n\\nTips: \\n\\n\\u2022Take advantage of the services and programs offered through Northwind Health Plus. \\n\\n\\u2022Talk to your doctor or other health care provider about your health and any treatments \\n\\nthat may be available. \\n\\n\\u2022Take an active role in your health care. Ask questions and be informed about your health \\n\\nand any treatments that may be available. \\n\\n\\u2022Make sure to follow your doctor\\u2019s instructions and stay up to date on your health care. \\n\\n\\u2022If you have any questions or concerns about your health, contact Northwind Health Plus \\n\\nfor assistance. \\n\\n\\n\\nChronic Condition Management \\n\\nCARE MANAGEMENT: Chronic Condition Management  \\n\\nAt Northwind Health, we understand that managing chronic conditions can be \\n\\noverwhelming and expensive. We are committed to helping our members manage their \\n\\nchronic conditions and live healthier, happier lives. That\\u2019s why we offer a Chronic Condition \\n\\nManagement Program (CCMP) as part of our Northwind Health Plus plan. This program \\n\\nprovides members with access to an interdisciplinary team of healthcare professionals who \\n\\ncan provide personalized care and support. The team includes physicians, nurses, social \\n\\nworkers, nutritionists, pharmacists, and other specialists. \\n\\nThe CCMP is designed to help members better manage their chronic conditions, reduce the \\n\\nrisk of complications, and improve their quality of life. Through the program, members \\n\\nreceive: \\n\\n\\u2022 Comprehensive care assessments and care plans  \\n\\n\\u2022 Regular follow-up visits  \\n\\n\\u2022 Personalized health education  \\n\\n\\u2022 Assistance with medication management  \\n\\n\\u2022 Coordination of services with other providers  \\n\\n\\u2022 Referrals to community resources \\n\\nExceptions: The CCMP is only available to Northwind Health Plus members who have one or\",\n",
      "  \"@search.score\": 2.914615,\n",
      "  \"@search.reranker_score\": null,\n",
      "  \"@search.highlights\": {\n",
      "    \"chunk\": [\n",
      "      \"must be enrolled in Northwind Health Plus to be eligible for these <em>programs</em>.\",\n",
      "      \"\\u2022These <em>programs</em> may not be available in all areas.\",\n",
      "      \"Tips: \\n\\n\\u2022Take advantage of the services and <em>programs</em> offered through Northwind Health Plus.\",\n",
      "      \"That\\u2019s why we offer a Chronic Condition \\n\\nManagement <em>Program</em> (CCMP) as part of our Northwind Health Plus plan.\",\n",
      "      \"This <em>program</em> \\n\\nprovides members with access to an interdisciplinary team of healthcare professionals who \\n\\ncan provide personalized care and support.\"\n",
      "    ]\n",
      "  },\n",
      "  \"@search.captions\": null\n",
      "}\n"
     ]
    }
   ],
   "source": [
    "search_results = search_client.search(\n",
    "    search_text=\"progrr~\",\n",
    "    query_type=\"full\",\n",
    "    include_total_count=True,\n",
    "    highlight_fields=\"chunk\",\n",
    "    top=3,\n",
    "    select=['chunk', 'chunk_id' ] # not including contentVector\n",
    "    )\n",
    "\n",
    "for r in search_results: \n",
    "\n",
    "    print(json.dumps(r, indent=2))"
   ]
  },
  {
   "cell_type": "code",
   "execution_count": 6,
   "metadata": {},
   "outputs": [],
   "source": [
    "for r in search_results: \n",
    "\n",
    "    print(json.dumps(r, indent=2))"
   ]
  },
  {
   "cell_type": "code",
   "execution_count": 7,
   "metadata": {},
   "outputs": [],
   "source": [
    "def get_autocomplete_results(search_text):\n",
    "\n",
    "    autocomplete_results1 = search_client.autocomplete(\n",
    "        search_text=search_text,\n",
    "        suggester_name=\"sg\",\n",
    "        use_fuzzy_matching=False\n",
    "    )\n",
    "    print(\"1:\")\n",
    "    for r in autocomplete_results1:\n",
    "        print(\"    Completion: {}\".format(r[\"text\"]))\n",
    "\n",
    "    autocomplete_results2 = search_client.autocomplete(\n",
    "        search_text=search_text,\n",
    "        suggester_name=\"sg\",\n",
    "        use_fuzzy_matching=True\n",
    "    )\n",
    "    print(\"2:\")\n",
    "    for r in autocomplete_results2:\n",
    "        print(\"    Completion: {}\".format(r[\"text\"]))\n",
    "\n",
    "    autocomplete_results3 = search_client.autocomplete(\n",
    "        search_text=search_text,\n",
    "        suggester_name=\"sg\",\n",
    "        use_fuzzy_matching=True, \n",
    "        mode=\"twoTerms\",\n",
    "    )\n",
    "\n",
    "\n",
    "    print(\"3:\")\n",
    "    for r in autocomplete_results3:\n",
    "        print(\"    Completion: {}\".format(r[\"text\"]))\n"
   ]
  },
  {
   "cell_type": "code",
   "execution_count": 8,
   "metadata": {},
   "outputs": [
    {
     "name": "stdout",
     "output_type": "stream",
     "text": [
      "1:\n",
      "2:\n",
      "3:\n"
     ]
    }
   ],
   "source": [
    "search_text = \"progrr\"\n",
    "\n",
    "get_autocomplete_results(search_text)"
   ]
  },
  {
   "cell_type": "code",
   "execution_count": 9,
   "metadata": {},
   "outputs": [
    {
     "name": "stdout",
     "output_type": "stream",
     "text": [
      "1:\n",
      "    Completion: program\n",
      "    Completion: programs\n",
      "    Completion: progress\n",
      "    Completion: progresses\n",
      "    Completion: programmatic\n",
      "2:\n",
      "    Completion: program\n",
      "    Completion: programs\n",
      "    Completion: progress\n",
      "    Completion: progresses\n",
      "    Completion: programmatic\n",
      "3:\n",
      "    Completion: program manager\n",
      "    Completion: programs and\n",
      "    Completion: programs or\n",
      "    Completion: progress and\n",
      "    Completion: program also\n"
     ]
    }
   ],
   "source": [
    "get_autocomplete_results(\"progr\")"
   ]
  },
  {
   "cell_type": "code",
   "execution_count": 10,
   "metadata": {},
   "outputs": [
    {
     "name": "stdout",
     "output_type": "stream",
     "text": [
      "1:\n",
      "    Completion: program\n",
      "    Completion: programs\n",
      "    Completion: progress\n",
      "    Completion: progresses\n",
      "    Completion: programmatic\n",
      "2:\n",
      "    Completion: program\n",
      "    Completion: programs\n",
      "    Completion: progress\n",
      "    Completion: progresses\n",
      "    Completion: programmatic\n",
      "3:\n",
      "    Completion: program manager\n",
      "    Completion: programs and\n",
      "    Completion: programs or\n",
      "    Completion: progress and\n",
      "    Completion: program also\n"
     ]
    }
   ],
   "source": [
    "get_autocomplete_results(\"progr~\")"
   ]
  },
  {
   "cell_type": "code",
   "execution_count": 23,
   "metadata": {},
   "outputs": [
    {
     "name": "stdout",
     "output_type": "stream",
     "text": [
      "Northwind_Standard_Benefits_Details.pdf\n",
      "Northwind_Health_Plus_Benefits_Details.pdf\n",
      "Northwind_Health_Plus_Benefits_Details.pdf\n",
      "Northwind_Health_Plus_Benefits_Details.pdf\n",
      "Northwind_Health_Plus_Benefits_Details.pdf\n"
     ]
    }
   ],
   "source": [
    "search_text = \"Health\"\n",
    "suggest_results = search_client.suggest(\n",
    "    search_text=search_text, \n",
    "    suggester_name=\"sg\", \n",
    "    use_fuzzy_matching=True, \n",
    "    search_fields=['chunk'],\n",
    "    select=['chunk', 'chunk_id', 'title'], \n",
    "    top=5\n",
    "    \n",
    ")\n",
    "\n",
    "\n",
    "for r in suggest_results: \n",
    "    print(r['title'])"
   ]
  }
 ],
 "metadata": {
  "kernelspec": {
   "display_name": "searchvector",
   "language": "python",
   "name": "python3"
  },
  "language_info": {
   "codemirror_mode": {
    "name": "ipython",
    "version": 3
   },
   "file_extension": ".py",
   "mimetype": "text/x-python",
   "name": "python",
   "nbconvert_exporter": "python",
   "pygments_lexer": "ipython3",
   "version": "3.11.8"
  }
 },
 "nbformat": 4,
 "nbformat_minor": 2
}
