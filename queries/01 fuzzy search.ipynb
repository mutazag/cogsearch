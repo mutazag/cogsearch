{
 "cells": [
  {
   "cell_type": "code",
   "execution_count": 1,
   "metadata": {},
   "outputs": [],
   "source": [
    "from dotenv import load_dotenv\n",
    "from azure.identity import DefaultAzureCredential\n",
    "from azure.core.credentials import AzureKeyCredential\n",
    "import os\n",
    "import json"
   ]
  },
  {
   "cell_type": "code",
   "execution_count": 2,
   "metadata": {},
   "outputs": [],
   "source": [
    "import sys\n",
    "sys.path.append(\"..\")\n",
    "from  helpers.searchhlpr import get_search_client"
   ]
  },
  {
   "cell_type": "code",
   "execution_count": null,
   "metadata": {},
   "outputs": [
    {
     "name": "stdout",
     "output_type": "stream",
     "text": [
      "index_name:  integrated-vectorization-index-codefirst-suggesters\n",
      "{'document_count': 663, 'storage_size': 27729265, 'vector_index_size': 4072892}\n"
     ]
    }
   ],
   "source": [
    "search_client = get_search_client(\"AZURE_SEARCH_INDEX_SG\")"
   ]
  },
  {
   "cell_type": "code",
   "execution_count": null,
   "metadata": {},
   "outputs": [
    {
     "name": "stdout",
     "output_type": "stream",
     "text": [
      "{\n",
      "  \"chunk\": [\n",
      "    \"you need requires prior <em>authorization</em>.  \\n\\n3.\",\n",
      "    \"Ask your provider if they will be submitting the prior <em>authorization</em> request for you.  \\n\\n4.\",\n",
      "    \"Ask Northwind Health about any limitations or conditions that may be placed on the prior \\n\\n<em>authorization</em>.  \\n\\n5.\",\n",
      "    \"Understand that certain services may not require prior <em>authorization</em>.\",\n",
      "    \"Exceptions to Prior-<em>Authorization</em> For Out-Of-Network Providers \\n\\nCARE MANAGEMENT - Exceptions to Prior-<em>Authorization</em> For Out-Of-Network Providers \\n\\nNorthwind Health Plus provides coverage for certain services that may require prior \\n\\n<em>authorization</em> when provided by an out-of-network provider.\"\n",
      "  ]\n",
      "}\n",
      "{\n",
      "  \"chunk\": [\n",
      "    \"Northwind Health also offers a patient advocacy program to help you with the prior \\n\\n<em>authorization</em> process.\",\n",
      "    \"How Prior-<em>Authorization</em> Works \\n\\nCARE MANAGEMENT: How Prior-<em>Authorization</em> Works \\n\\nPrior <em>authorization</em> is a process that Northwind Standard uses to help ensure that members \\n\\nreceive medically necessary, cost-effective, and appropriate services.\",\n",
      "    \"With prior \\n\\n\\n\\n<em>authorization</em>, services must be approved by Northwind Health before you can receive \\n\\nthem.\",\n",
      "    \"There are certain services that require prior <em>authorization</em> before the service is rendered.\",\n",
      "    \"If Northwind Health approves the service, you may receive the service without any \\n\\nadditional pre-<em>authorization</em>.\"\n",
      "  ]\n",
      "}\n",
      "{\n",
      "  \"chunk\": [\n",
      "    \"Prior <em>authorization</em> must also be obtained in order to receive coverage.\",\n",
      "    \"CARE MANAGEMENT \\n\\nPrior-<em>Authorization</em> \\n\\nCARE MANAGEMENT: Prior <em>Authorization</em> \\n\\nNorthwind Standard includes Care Management services, which are designed to provide \\n\\nsupport, information, and proactive care for members.\",\n",
      "    \"Specifically, this plan includes a Prior \\n\\n<em>Authorization</em> (PA) process for certain services.\",\n",
      "    \"This <em>authorization</em> can be requested by either the provider or the \\n\\nmember.\",\n",
      "    \"If prior <em>authorization</em> is not \\n\\nobtained, Northwind Health may not cover the service.\"\n",
      "  ]\n",
      "}\n"
     ]
    }
   ],
   "source": [
    "search_results = search_client.search(\n",
    "    search_text=\"authoras~\",\n",
    "    query_type=\"full\",\n",
    "    include_total_count=True,\n",
    "    highlight_fields=\"chunk\",\n",
    "    top=3,\n",
    "    select=['chunk', 'chunk_id' ] # not including contentVector\n",
    "    )\n",
    "\n",
    "for r in search_results:\n",
    "\n",
    "    # print(json.dumps(r, indent=2))\n",
    "    print(json.dumps(r[\"@search.highlights\"], indent=2))"
   ]
  },
  {
   "cell_type": "code",
   "execution_count": null,
   "metadata": {},
   "outputs": [],
   "source": [
    "# Autocomplete query paramters\n",
    "# https://learn.microsoft.com/en-us/rest/api/searchservice/autocomplete#query-parameters\n",
    "\n",
    "\n",
    "def get_autocomplete_results(search_text):\n",
    "\n",
    "    print(f\"search term: {search_text}\")\n",
    "\n",
    "    autocomplete_results1 = search_client.autocomplete(\n",
    "        search_text=search_text,\n",
    "        suggester_name=\"sg\",\n",
    "        use_fuzzy_matching=False\n",
    "    )\n",
    "    print(\"1: use_fuzzy_matching=False\")\n",
    "    for r in autocomplete_results1:\n",
    "        print(\"    Completion: {}\".format(r[\"text\"]))\n",
    "\n",
    "    autocomplete_results2 = search_client.autocomplete(\n",
    "        search_text=search_text,\n",
    "        suggester_name=\"sg\",\n",
    "        use_fuzzy_matching=True\n",
    "    )\n",
    "    print(\"2: use_fuzzy_matching=True\")\n",
    "    for r in autocomplete_results2:\n",
    "        print(\"    Completion: {}\".format(r[\"text\"]))\n",
    "\n",
    "    autocomplete_results3 = search_client.autocomplete(\n",
    "        search_text=search_text,\n",
    "        suggester_name=\"sg\",\n",
    "        use_fuzzy_matching=True,\n",
    "        mode=\"twoTerms\",\n",
    "    )\n",
    "\n",
    "\n",
    "    print(\"3: use_fuzzy_matching=True and mode twoTerms\")\n",
    "    for r in autocomplete_results3:\n",
    "        print(\"    Completion: {}\".format(r[\"text\"]))\n",
    "\n",
    "\n",
    "    autocomplete_results4 = search_client.autocomplete(\n",
    "        search_text=search_text,\n",
    "        suggester_name=\"sg\",\n",
    "        use_fuzzy_matching=True,\n",
    "        mode=\"oneTermWithContext\",\n",
    "    )\n",
    "\n",
    "\n",
    "    print(\"4: use_fuzzy_matching=True and mode oneTermWithContext\")\n",
    "    for r in autocomplete_results4:\n",
    "        print(\"    Completion: {}\".format(r[\"text\"]))\n",
    "\n"
   ]
  },
  {
   "cell_type": "code",
   "execution_count": 8,
   "metadata": {},
   "outputs": [
    {
     "name": "stdout",
     "output_type": "stream",
     "text": [
      "search term: authoriz~\n",
      "1: use_fuzzy_matching=False\n",
      "    Completion: authorization\n",
      "    Completion: authorizations\n",
      "    Completion: authorized\n",
      "    Completion: authorize\n",
      "    Completion: authorizing\n",
      "2: use_fuzzy_matching=True\n",
      "    Completion: authorization\n",
      "    Completion: authorizations\n",
      "    Completion: authorized\n",
      "    Completion: authorize\n",
      "    Completion: authorizing\n",
      "3: use_fuzzy_matching=True and mode twoTerms\n",
      "    Completion: authorization for\n",
      "    Completion: authorization is\n",
      "    Completion: authorization before\n",
      "    Completion: authorization from\n",
      "    Completion: authorization may\n",
      "4: use_fuzzy_matching=True and mode oneTermWithContext\n",
      "    Completion: authorization\n",
      "    Completion: authorizations\n",
      "    Completion: authorized\n",
      "    Completion: authorize\n",
      "    Completion: authorizing\n"
     ]
    }
   ],
   "source": [
    "search_text = \"authoriz~\"\n",
    "\n",
    "get_autocomplete_results(search_text)"
   ]
  },
  {
   "cell_type": "code",
   "execution_count": 9,
   "metadata": {},
   "outputs": [
    {
     "name": "stdout",
     "output_type": "stream",
     "text": [
      "search term: progr\n",
      "1: use_fuzzy_matching=False\n",
      "    Completion: program\n",
      "    Completion: programs\n",
      "    Completion: progress\n",
      "    Completion: progresses\n",
      "    Completion: programmatic\n",
      "2: use_fuzzy_matching=True\n",
      "    Completion: program\n",
      "    Completion: programs\n",
      "    Completion: progress\n",
      "    Completion: progresses\n",
      "    Completion: programmatic\n",
      "3: use_fuzzy_matching=True and mode twoTerms\n",
      "    Completion: program manager\n",
      "    Completion: programs and\n",
      "    Completion: programs or\n",
      "    Completion: progress and\n",
      "    Completion: program also\n",
      "4: use_fuzzy_matching=True and mode oneTermWithContext\n",
      "    Completion: program\n",
      "    Completion: programs\n",
      "    Completion: progress\n",
      "    Completion: progresses\n",
      "    Completion: programmatic\n"
     ]
    }
   ],
   "source": [
    "get_autocomplete_results(\"progr\")"
   ]
  },
  {
   "cell_type": "code",
   "execution_count": 10,
   "metadata": {},
   "outputs": [
    {
     "name": "stdout",
     "output_type": "stream",
     "text": [
      "search term: progr~\n",
      "1: use_fuzzy_matching=False\n",
      "    Completion: program\n",
      "    Completion: programs\n",
      "    Completion: progress\n",
      "    Completion: progresses\n",
      "    Completion: programmatic\n",
      "2: use_fuzzy_matching=True\n",
      "    Completion: program\n",
      "    Completion: programs\n",
      "    Completion: progress\n",
      "    Completion: progresses\n",
      "    Completion: programmatic\n",
      "3: use_fuzzy_matching=True and mode twoTerms\n",
      "    Completion: program manager\n",
      "    Completion: programs and\n",
      "    Completion: programs or\n",
      "    Completion: progress and\n",
      "    Completion: program also\n",
      "4: use_fuzzy_matching=True and mode oneTermWithContext\n",
      "    Completion: program\n",
      "    Completion: programs\n",
      "    Completion: progress\n",
      "    Completion: progresses\n",
      "    Completion: programmatic\n"
     ]
    }
   ],
   "source": [
    "get_autocomplete_results(\"progr~\")"
   ]
  },
  {
   "cell_type": "code",
   "execution_count": 20,
   "metadata": {},
   "outputs": [
    {
     "name": "stdout",
     "output_type": "stream",
     "text": [
      "search term: authoriz~\n",
      "1: use_fuzzy_matching=False\n",
      "    Completion: authorization\n",
      "    Completion: authorizations\n",
      "    Completion: authorized\n",
      "    Completion: authorize\n",
      "    Completion: authorizing\n",
      "2: use_fuzzy_matching=True\n",
      "    Completion: authorization\n",
      "    Completion: authorizations\n",
      "    Completion: authorized\n",
      "    Completion: authorize\n",
      "    Completion: authorizing\n",
      "3: use_fuzzy_matching=True and mode twoTerms\n",
      "    Completion: authorization for\n",
      "    Completion: authorization is\n",
      "    Completion: authorization before\n",
      "    Completion: authorization from\n",
      "    Completion: authorization may\n",
      "4: use_fuzzy_matching=True and mode oneTermWithContext\n",
      "    Completion: authorization\n",
      "    Completion: authorizations\n",
      "    Completion: authorized\n",
      "    Completion: authorize\n",
      "    Completion: authorizing\n"
     ]
    }
   ],
   "source": [
    "get_autocomplete_results(\"authoriz~\")"
   ]
  },
  {
   "cell_type": "code",
   "execution_count": 21,
   "metadata": {},
   "outputs": [
    {
     "name": "stdout",
     "output_type": "stream",
     "text": [
      "search term: authoris~\n",
      "1: use_fuzzy_matching=False\n",
      "2: use_fuzzy_matching=True\n",
      "3: use_fuzzy_matching=True and mode twoTerms\n",
      "4: use_fuzzy_matching=True and mode oneTermWithContext\n"
     ]
    }
   ],
   "source": [
    "get_autocomplete_results(\"authoris~\")"
   ]
  },
  {
   "cell_type": "code",
   "execution_count": null,
   "metadata": {},
   "outputs": [],
   "source": [
    "search_text = \"authoriS\"\n",
    "suggest_results = search_client.suggest(\n",
    "    search_text=search_text,\n",
    "    suggester_name=\"sg\",\n",
    "    use_fuzzy_matching=True,\n",
    "    search_fields=['chunk'],\n",
    "    select=['chunk', 'chunk_id', 'title'],\n",
    "    top=5\n",
    "\n",
    ")\n",
    "\n",
    "\n",
    "for r in suggest_results:\n",
    "    print(r['title'])"
   ]
  },
  {
   "cell_type": "code",
   "execution_count": null,
   "metadata": {},
   "outputs": [],
   "source": []
  }
 ],
 "metadata": {
  "kernelspec": {
   "display_name": "Python 3",
   "language": "python",
   "name": "python3"
  },
  "language_info": {
   "codemirror_mode": {
    "name": "ipython",
    "version": 3
   },
   "file_extension": ".py",
   "mimetype": "text/x-python",
   "name": "python",
   "nbconvert_exporter": "python",
   "pygments_lexer": "ipython3",
   "version": "3.11.8"
  }
 },
 "nbformat": 4,
 "nbformat_minor": 2
}
