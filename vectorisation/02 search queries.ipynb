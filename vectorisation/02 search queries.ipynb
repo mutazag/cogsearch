{
 "cells": [
  {
   "attachments": {},
   "cell_type": "markdown",
   "metadata": {},
   "source": [
    "# Azure AI Search integrated vectorization sample\n"
   ]
  },
  {
   "cell_type": "code",
   "execution_count": 3,
   "metadata": {},
   "outputs": [],
   "source": [
    "from dotenv import load_dotenv\n",
    "from azure.identity import DefaultAzureCredential\n",
    "from azure.core.credentials import AzureKeyCredential\n",
    "import os\n"
   ]
  },
  {
   "cell_type": "code",
   "execution_count": 4,
   "metadata": {},
   "outputs": [],
   "source": [
    "\n",
    "load_dotenv(override=True) # take environment variables from .env.\n",
    "\n",
    "# Variables not used here do not need to be updated in your .env file\n",
    "endpoint = os.environ[\"AZURE_SEARCH_SERVICE_ENDPOINT\"]\n",
    "credential = AzureKeyCredential(os.environ[\"AZURE_SEARCH_ADMIN_KEY\"]) if len(os.environ[\"AZURE_SEARCH_ADMIN_KEY\"]) > 0 else DefaultAzureCredential()\n",
    "index_name = os.environ[\"AZURE_SEARCH_INDEX\"]\n",
    "blob_connection_string = os.environ[\"BLOB_CONNECTION_STRING\"]\n",
    "blob_container_name = os.environ[\"BLOB_CONTAINER_NAME\"]\n",
    "azure_openai_endpoint = os.environ[\"AZURE_OPENAI_ENDPOINT\"]\n",
    "azure_openai_key = os.environ[\"AZURE_OPENAI_KEY\"] if len(os.environ[\"AZURE_OPENAI_KEY\"]) > 0 else None\n",
    "azure_openai_embedding_deployment = os.environ[\"AZURE_OPENAI_EMBEDDING_DEPLOYMENT\"]"
   ]
  },
  {
   "cell_type": "code",
   "execution_count": 5,
   "metadata": {},
   "outputs": [],
   "source": [
    "import re \n",
    "def get_page_number(chunk_id : str): \n",
    "    page_re = r'_pages_(\\d+)$'\n",
    "\n",
    "    match = re.search(page_re, chunk_id)\n",
    "    if match:\n",
    "        page_number = match.group(1)\n",
    "        return page_number"
   ]
  },
  {
   "attachments": {},
   "cell_type": "markdown",
   "metadata": {},
   "source": [
    "## Perform a vector similarity search"
   ]
  },
  {
   "cell_type": "markdown",
   "metadata": {},
   "source": [
    "This example shows a pure vector search using the vectorizable text query, all you need to do is pass in text and your vectorizer will handle the query vectorization.\n",
    "\n",
    "If you indexed the health plan PDF file, send queries that ask plan-related questions."
   ]
  },
  {
   "cell_type": "code",
   "execution_count": 38,
   "metadata": {},
   "outputs": [
    {
     "name": "stdout",
     "output_type": "stream",
     "text": [
      "title: Benefit_Options.pdf\n",
      "parent_id: aHR0cHM6Ly9nb2R6aWxsYXN0b3JhZ2UuYmxvYi5jb3JlLndpbmRvd3MubmV0L2ludGVncmF0ZWR2ZWN0b3ItZG9jcy9CZW5lZml0X09wdGlvbnMucGRm0\n",
      "chunk_id: 9bda6a7aeb27_aHR0cHM6Ly9nb2R6aWxsYXN0b3JhZ2UuYmxvYi5jb3JlLndpbmRvd3MubmV0L2ludGVncmF0ZWR2ZWN0b3ItZG9jcy9CZW5lZml0X09wdGlvbnMucGRm0_pages_2\n",
      "Score: 0.01666666753590107\n",
      "Page: 2\n",
      "search captions: Northwind Standard   only offers coverage for vision exams and glasses. Both plans offer coverage for medical services. Northwind Health Plus offers coverage for hospital stays,   doctor visits, lab tests, and X-rays. Northwind Standard only offers coverage for doctor visits and lab   tests.\n",
      "search captions highlights: \n",
      "title: Northwind_Standard_Benefits_Details.pdf\n",
      "parent_id: aHR0cHM6Ly9nb2R6aWxsYXN0b3JhZ2UuYmxvYi5jb3JlLndpbmRvd3MubmV0L2ludGVncmF0ZWR2ZWN0b3ItZG9jcy9Ob3J0aHdpbmRfU3RhbmRhcmRfQmVuZWZpdHNfRGV0YWlscy5wZGY1\n",
      "chunk_id: b181d3e98b6a_aHR0cHM6Ly9nb2R6aWxsYXN0b3JhZ2UuYmxvYi5jb3JlLndpbmRvd3MubmV0L2ludGVncmF0ZWR2ZWN0b3ItZG9jcy9Ob3J0aHdpbmRfU3RhbmRhcmRfQmVuZWZpdHNfRGV0YWlscy5wZGY1_pages_147\n",
      "Score: 0.01587301678955555\n",
      "Page: 147\n",
      "search captions: tips for employees   if you are receiving services or treatments that require evidence of medical necessity, there   are a few steps you can take to ensure that your claim is processed quickly and accurately:      • ask your healthcare provider to provide you with a detailed explanation of the services   and treatments you are receiving, as well …\n",
      "search captions highlights: tips for employees   if you are receiving services or<em> treatments</em> that require evidence of medical necessity, there   are a few steps you can take to ensure that your claim is processed quickly and accurately:      • ask your healthcare provider to provide you with a detailed explanation of the services   and<em> treatments</em> you are receiving, as well …\n",
      "title: Northwind_Health_Plus_Benefits_Details.pdf\n",
      "parent_id: aHR0cHM6Ly9nb2R6aWxsYXN0b3JhZ2UuYmxvYi5jb3JlLndpbmRvd3MubmV0L2ludGVncmF0ZWR2ZWN0b3ItZG9jcy9Ob3J0aHdpbmRfSGVhbHRoX1BsdXNfQmVuZWZpdHNfRGV0YWlscy5wZGY1\n",
      "chunk_id: 06b081b451f3_aHR0cHM6Ly9nb2R6aWxsYXN0b3JhZ2UuYmxvYi5jb3JlLndpbmRvd3MubmV0L2ludGVncmF0ZWR2ZWN0b3ItZG9jcy9Ob3J0aHdpbmRfSGVhbHRoX1BsdXNfQmVuZWZpdHNfRGV0YWlscy5wZGY1_pages_75\n",
      "Score: 0.016393441706895828\n",
      "Page: 75\n",
      "search captions: Laboratory Tests: Northwind Health Plus covers laboratory tests prescribed by a healthcare   provider. This includes blood tests, urine tests, and other tests to diagnose and treat   illnesses and injuries. Imaging Services: Northwind Health Plus covers imaging services, including X-rays, CT   scans, MRIs, and ultrasound.\n",
      "search captions highlights: \n",
      "title: Northwind_Health_Plus_Benefits_Details.pdf\n",
      "parent_id: aHR0cHM6Ly9nb2R6aWxsYXN0b3JhZ2UuYmxvYi5jb3JlLndpbmRvd3MubmV0L2ludGVncmF0ZWR2ZWN0b3ItZG9jcy9Ob3J0aHdpbmRfSGVhbHRoX1BsdXNfQmVuZWZpdHNfRGV0YWlscy5wZGY1\n",
      "chunk_id: 06b081b451f3_aHR0cHM6Ly9nb2R6aWxsYXN0b3JhZ2UuYmxvYi5jb3JlLndpbmRvd3MubmV0L2ludGVncmF0ZWR2ZWN0b3ItZG9jcy9Ob3J0aHdpbmRfSGVhbHRoX1BsdXNfQmVuZWZpdHNfRGV0YWlscy5wZGY1_pages_104\n",
      "Score: 0.013698630034923553\n",
      "Page: 104\n",
      "search captions: when prior authorization is required   prior authorization is required for certain services and treatments such as:    • hospital admissions   • inpatient surgery   • outpatient surgery   • magnetic resonance imaging (mri)   • computed tomography (ct)   • radiation therapy   • durable medical equipment   • physical, occupational, and speech …\n",
      "search captions highlights: \n",
      "title: Northwind_Health_Plus_Benefits_Details.pdf\n",
      "parent_id: aHR0cHM6Ly9nb2R6aWxsYXN0b3JhZ2UuYmxvYi5jb3JlLndpbmRvd3MubmV0L2ludGVncmF0ZWR2ZWN0b3ItZG9jcy9Ob3J0aHdpbmRfSGVhbHRoX1BsdXNfQmVuZWZpdHNfRGV0YWlscy5wZGY1\n",
      "chunk_id: 06b081b451f3_aHR0cHM6Ly9nb2R6aWxsYXN0b3JhZ2UuYmxvYi5jb3JlLndpbmRvd3MubmV0L2ludGVncmF0ZWR2ZWN0b3ItZG9jcy9Ob3J0aHdpbmRfSGVhbHRoX1BsdXNfQmVuZWZpdHNfRGV0YWlscy5wZGY1_pages_137\n",
      "Score: 0.010989011265337467\n",
      "Page: 137\n",
      "search captions: • You should include all relevant medical and other information with your appeal. This may   include medical records, test results, and/or other supporting documents. • Northwind Health Plus will review your appeal and notify you in writing of their decision. The decision must be made within 30 days of receipt of your appeal..\u0000\n",
      "search captions highlights: \n"
     ]
    }
   ],
   "source": [
    "from azure.search.documents import SearchClient\n",
    "from azure.search.documents.models import VectorizableTextQuery\n",
    "\n",
    "# Pure Vector Search\n",
    "query = \"eye test\"\n",
    "# \"Which is more comprehensive, Northwind Health Plus vs Northwind Standard?\"  \n",
    "\n",
    "topk = 5\n",
    "  \n",
    "search_client = SearchClient(endpoint, index_name, credential=credential)\n",
    "\n",
    "\n",
    "vector_fields = [\"vector\"]\n",
    "\n",
    "vector_queries = [VectorizableTextQuery(\n",
    "        text = query,\n",
    "        k_nearest_neighbors=topk, \n",
    "        fields=vector,\n",
    "        exhaustive=True, \n",
    "    ) for vector in vector_fields]\n",
    "\n",
    "\n",
    "# vector_query = VectorizableTextQuery(text=query, k_nearest_neighbors=topk, fields=\"vector\", exhaustive=True)\n",
    "# Use the below query to pass in the raw vector query instead of the query vectorization\n",
    "# vector_query = RawVectorQuery(vector=generate_embeddings(query), k_nearest_neighbors=3, fields=\"vector\")\n",
    "  \n",
    "# results = search_client.search(  \n",
    "#     search_text=None,  \n",
    "#     vector_queries= vector_queries,\n",
    "#     select=[\"parent_id\", \"chunk_id\", \"chunk\",\"title\"],\n",
    "#     top=topk\n",
    "# )  \n",
    "\n",
    "\n",
    "\n",
    "results = search_client.search(\n",
    "        search_text = query, \n",
    "        vector_queries=vector_queries, \n",
    "        select=[\"parent_id\", \"chunk_id\", \"chunk\",\"title\"], \n",
    "        top=topk, \n",
    "        include_total_count=True, \n",
    "        query_type=\"semantic\",\n",
    "        semantic_configuration_name=\"my-semantic-config\", \n",
    "        query_answer=\"extractive\", \n",
    "        query_answer_count=5, \n",
    "        query_caption=\"extractive\",\n",
    "        query_caption_highlight_enabled=True,\n",
    "    )\n",
    "\n",
    "\n",
    "for result in results:  \n",
    "    print(f\"title: {result['title']}\")\n",
    "    print(f\"parent_id: {result['parent_id']}\")  \n",
    "    print(f\"chunk_id: {result['chunk_id']}\")  \n",
    "    print(f\"Score: {result['@search.score']}\")  \n",
    "    print(f\"Page: {get_page_number(result['chunk_id'])}\")\n",
    "    print(f\"search captions: {result['@search.captions'][0].text}\")\n",
    "    print(f\"search captions highlights: {result['@search.captions'][0].highlights}\")\n",
    "    \n",
    "    # print(f\"Content: {result['chunk']}\")   \n"
   ]
  },
  {
   "cell_type": "code",
   "execution_count": 13,
   "metadata": {},
   "outputs": [
    {
     "name": "stdout",
     "output_type": "stream",
     "text": [
      "dict_keys(['chunk', 'chunk_id', 'parent_id', 'title', '@search.score', '@search.reranker_score', '@search.highlights', '@search.captions'])\n"
     ]
    }
   ],
   "source": [
    "print(result.keys())"
   ]
  },
  {
   "cell_type": "code",
   "execution_count": 19,
   "metadata": {},
   "outputs": [],
   "source": [
    "search_caption = result[\"@search.captions\"]"
   ]
  },
  {
   "cell_type": "code",
   "execution_count": 27,
   "metadata": {},
   "outputs": [
    {
     "data": {
      "text/plain": [
       "<azure.search.documents._generated.models._models_py3.QueryCaptionResult at 0x2e037db8c90>"
      ]
     },
     "execution_count": 27,
     "metadata": {},
     "output_type": "execute_result"
    }
   ],
   "source": []
  },
  {
   "cell_type": "code",
   "execution_count": 24,
   "metadata": {},
   "outputs": [
    {
     "name": "stdout",
     "output_type": "stream",
     "text": [
      "{'additional_properties': None, 'text': '• You should include all relevant medical and other information with your appeal. This may   include medical records, test results, and/or other supporting documents. • Northwind Health Plus will review your appeal and notify you in writing of their decision. The decision must be made within 30 days of receipt of your appeal..\\x00', 'highlights': ''}\n"
     ]
    }
   ],
   "source": [
    "for sc in search_caption: \n",
    "    print(sc)"
   ]
  },
  {
   "cell_type": "code",
   "execution_count": 36,
   "metadata": {},
   "outputs": [
    {
     "name": "stdout",
     "output_type": "stream",
     "text": [
      "• You should include all relevant medical and other information with your appeal. This may   include medical records, test results, and/or other supporting documents. • Northwind Health Plus will review your appeal and notify you in writing of their decision. The decision must be made within 30 days of receipt of your appeal..\u0000\n",
      "\n",
      "None\n"
     ]
    },
    {
     "data": {
      "text/plain": [
       "dict_keys(['text', 'highlights'])"
      ]
     },
     "execution_count": 36,
     "metadata": {},
     "output_type": "execute_result"
    }
   ],
   "source": [
    "print(sc.text)\n",
    "print(sc.highlights)\n",
    "print(sc.additional_properties)\n",
    "sc.as_dict().keys()"
   ]
  },
  {
   "cell_type": "markdown",
   "metadata": {},
   "source": [
    "## Perform a hybrid search"
   ]
  },
  {
   "cell_type": "code",
   "execution_count": 12,
   "metadata": {},
   "outputs": [
    {
     "name": "stdout",
     "output_type": "stream",
     "text": [
      "title: Northwind_Standard_Benefits_Details.pdf\n",
      "parent_id: aHR0cHM6Ly9nb2R6aWxsYXN0b3JhZ2UuYmxvYi5jb3JlLndpbmRvd3MubmV0L2ludGVncmF0ZWR2ZWN0b3ItZG9jcy9Ob3J0aHdpbmRfU3RhbmRhcmRfQmVuZWZpdHNfRGV0YWlscy5wZGY1\n",
      "chunk_id: b181d3e98b6a_aHR0cHM6Ly9nb2R6aWxsYXN0b3JhZ2UuYmxvYi5jb3JlLndpbmRvd3MubmV0L2ludGVncmF0ZWR2ZWN0b3ItZG9jcy9Ob3J0aHdpbmRfU3RhbmRhcmRfQmVuZWZpdHNfRGV0YWlscy5wZGY1_pages_147\n",
      "Score: 3.9936035\n",
      "Page: 147\n",
      "title: Northwind_Standard_Benefits_Details.pdf\n",
      "parent_id: aHR0cHM6Ly9nb2R6aWxsYXN0b3JhZ2UuYmxvYi5jb3JlLndpbmRvd3MubmV0L2ludGVncmF0ZWR2ZWN0b3ItZG9jcy9Ob3J0aHdpbmRfU3RhbmRhcmRfQmVuZWZpdHNfRGV0YWlscy5wZGY1\n",
      "chunk_id: b181d3e98b6a_aHR0cHM6Ly9nb2R6aWxsYXN0b3JhZ2UuYmxvYi5jb3JlLndpbmRvd3MubmV0L2ludGVncmF0ZWR2ZWN0b3ItZG9jcy9Ob3J0aHdpbmRfU3RhbmRhcmRfQmVuZWZpdHNfRGV0YWlscy5wZGY1_pages_148\n",
      "Score: 3.178743\n",
      "Page: 148\n",
      "title: Northwind_Standard_Benefits_Details.pdf\n",
      "parent_id: aHR0cHM6Ly9nb2R6aWxsYXN0b3JhZ2UuYmxvYi5jb3JlLndpbmRvd3MubmV0L2ludGVncmF0ZWR2ZWN0b3ItZG9jcy9Ob3J0aHdpbmRfU3RhbmRhcmRfQmVuZWZpdHNfRGV0YWlscy5wZGY1\n",
      "chunk_id: b181d3e98b6a_aHR0cHM6Ly9nb2R6aWxsYXN0b3JhZ2UuYmxvYi5jb3JlLndpbmRvd3MubmV0L2ludGVncmF0ZWR2ZWN0b3ItZG9jcy9Ob3J0aHdpbmRfU3RhbmRhcmRfQmVuZWZpdHNfRGV0YWlscy5wZGY1_pages_15\n",
      "Score: 3.1002843\n",
      "Page: 15\n",
      "title: role_library.pdf\n",
      "parent_id: aHR0cHM6Ly9nb2R6aWxsYXN0b3JhZ2UuYmxvYi5jb3JlLndpbmRvd3MubmV0L2ludGVncmF0ZWR2ZWN0b3ItZG9jcy9yb2xlX2xpYnJhcnkucGRm0\n",
      "chunk_id: 45ef19dfa343_aHR0cHM6Ly9nb2R6aWxsYXN0b3JhZ2UuYmxvYi5jb3JlLndpbmRvd3MubmV0L2ludGVncmF0ZWR2ZWN0b3ItZG9jcy9yb2xlX2xpYnJhcnkucGRm0_pages_35\n",
      "Score: 3.0215447\n",
      "Page: 35\n",
      "title: Northwind_Health_Plus_Benefits_Details.pdf\n",
      "parent_id: aHR0cHM6Ly9nb2R6aWxsYXN0b3JhZ2UuYmxvYi5jb3JlLndpbmRvd3MubmV0L2ludGVncmF0ZWR2ZWN0b3ItZG9jcy9Ob3J0aHdpbmRfSGVhbHRoX1BsdXNfQmVuZWZpdHNfRGV0YWlscy5wZGY1\n",
      "chunk_id: 06b081b451f3_aHR0cHM6Ly9nb2R6aWxsYXN0b3JhZ2UuYmxvYi5jb3JlLndpbmRvd3MubmV0L2ludGVncmF0ZWR2ZWN0b3ItZG9jcy9Ob3J0aHdpbmRfSGVhbHRoX1BsdXNfQmVuZWZpdHNfRGV0YWlscy5wZGY1_pages_138\n",
      "Score: 2.864756\n",
      "Page: 138\n",
      "title: Northwind_Health_Plus_Benefits_Details.pdf\n",
      "parent_id: aHR0cHM6Ly9nb2R6aWxsYXN0b3JhZ2UuYmxvYi5jb3JlLndpbmRvd3MubmV0L2ludGVncmF0ZWR2ZWN0b3ItZG9jcy9Ob3J0aHdpbmRfSGVhbHRoX1BsdXNfQmVuZWZpdHNfRGV0YWlscy5wZGY1\n",
      "chunk_id: 06b081b451f3_aHR0cHM6Ly9nb2R6aWxsYXN0b3JhZ2UuYmxvYi5jb3JlLndpbmRvd3MubmV0L2ludGVncmF0ZWR2ZWN0b3ItZG9jcy9Ob3J0aHdpbmRfSGVhbHRoX1BsdXNfQmVuZWZpdHNfRGV0YWlscy5wZGY1_pages_104\n",
      "Score: 2.7110708\n",
      "Page: 104\n",
      "title: Northwind_Health_Plus_Benefits_Details.pdf\n",
      "parent_id: aHR0cHM6Ly9nb2R6aWxsYXN0b3JhZ2UuYmxvYi5jb3JlLndpbmRvd3MubmV0L2ludGVncmF0ZWR2ZWN0b3ItZG9jcy9Ob3J0aHdpbmRfSGVhbHRoX1BsdXNfQmVuZWZpdHNfRGV0YWlscy5wZGY1\n",
      "chunk_id: 06b081b451f3_aHR0cHM6Ly9nb2R6aWxsYXN0b3JhZ2UuYmxvYi5jb3JlLndpbmRvd3MubmV0L2ludGVncmF0ZWR2ZWN0b3ItZG9jcy9Ob3J0aHdpbmRfSGVhbHRoX1BsdXNfQmVuZWZpdHNfRGV0YWlscy5wZGY1_pages_142\n",
      "Score: 2.4955263\n",
      "Page: 142\n",
      "title: Northwind_Standard_Benefits_Details.pdf\n",
      "parent_id: aHR0cHM6Ly9nb2R6aWxsYXN0b3JhZ2UuYmxvYi5jb3JlLndpbmRvd3MubmV0L2ludGVncmF0ZWR2ZWN0b3ItZG9jcy9Ob3J0aHdpbmRfU3RhbmRhcmRfQmVuZWZpdHNfRGV0YWlscy5wZGY1\n",
      "chunk_id: b181d3e98b6a_aHR0cHM6Ly9nb2R6aWxsYXN0b3JhZ2UuYmxvYi5jb3JlLndpbmRvd3MubmV0L2ludGVncmF0ZWR2ZWN0b3ItZG9jcy9Ob3J0aHdpbmRfU3RhbmRhcmRfQmVuZWZpdHNfRGV0YWlscy5wZGY1_pages_96\n",
      "Score: 2.4955263\n",
      "Page: 96\n",
      "title: Northwind_Health_Plus_Benefits_Details.pdf\n",
      "parent_id: aHR0cHM6Ly9nb2R6aWxsYXN0b3JhZ2UuYmxvYi5jb3JlLndpbmRvd3MubmV0L2ludGVncmF0ZWR2ZWN0b3ItZG9jcy9Ob3J0aHdpbmRfSGVhbHRoX1BsdXNfQmVuZWZpdHNfRGV0YWlscy5wZGY1\n",
      "chunk_id: 06b081b451f3_aHR0cHM6Ly9nb2R6aWxsYXN0b3JhZ2UuYmxvYi5jb3JlLndpbmRvd3MubmV0L2ludGVncmF0ZWR2ZWN0b3ItZG9jcy9Ob3J0aHdpbmRfSGVhbHRoX1BsdXNfQmVuZWZpdHNfRGV0YWlscy5wZGY1_pages_32\n",
      "Score: 2.4681697\n",
      "Page: 32\n",
      "title: Northwind_Health_Plus_Benefits_Details.pdf\n",
      "parent_id: aHR0cHM6Ly9nb2R6aWxsYXN0b3JhZ2UuYmxvYi5jb3JlLndpbmRvd3MubmV0L2ludGVncmF0ZWR2ZWN0b3ItZG9jcy9Ob3J0aHdpbmRfSGVhbHRoX1BsdXNfQmVuZWZpdHNfRGV0YWlscy5wZGY1\n",
      "chunk_id: 06b081b451f3_aHR0cHM6Ly9nb2R6aWxsYXN0b3JhZ2UuYmxvYi5jb3JlLndpbmRvd3MubmV0L2ludGVncmF0ZWR2ZWN0b3ItZG9jcy9Ob3J0aHdpbmRfSGVhbHRoX1BsdXNfQmVuZWZpdHNfRGV0YWlscy5wZGY1_pages_141\n",
      "Score: 2.4681697\n",
      "Page: 141\n",
      "title: Northwind_Health_Plus_Benefits_Details.pdf\n",
      "parent_id: aHR0cHM6Ly9nb2R6aWxsYXN0b3JhZ2UuYmxvYi5jb3JlLndpbmRvd3MubmV0L2ludGVncmF0ZWR2ZWN0b3ItZG9jcy9Ob3J0aHdpbmRfSGVhbHRoX1BsdXNfQmVuZWZpdHNfRGV0YWlscy5wZGY1\n",
      "chunk_id: 06b081b451f3_aHR0cHM6Ly9nb2R6aWxsYXN0b3JhZ2UuYmxvYi5jb3JlLndpbmRvd3MubmV0L2ludGVncmF0ZWR2ZWN0b3ItZG9jcy9Ob3J0aHdpbmRfSGVhbHRoX1BsdXNfQmVuZWZpdHNfRGV0YWlscy5wZGY1_pages_137\n",
      "Score: 2.1487002\n",
      "Page: 137\n",
      "title: Northwind_Standard_Benefits_Details.pdf\n",
      "parent_id: aHR0cHM6Ly9nb2R6aWxsYXN0b3JhZ2UuYmxvYi5jb3JlLndpbmRvd3MubmV0L2ludGVncmF0ZWR2ZWN0b3ItZG9jcy9Ob3J0aHdpbmRfU3RhbmRhcmRfQmVuZWZpdHNfRGV0YWlscy5wZGY1\n",
      "chunk_id: b181d3e98b6a_aHR0cHM6Ly9nb2R6aWxsYXN0b3JhZ2UuYmxvYi5jb3JlLndpbmRvd3MubmV0L2ludGVncmF0ZWR2ZWN0b3ItZG9jcy9Ob3J0aHdpbmRfU3RhbmRhcmRfQmVuZWZpdHNfRGV0YWlscy5wZGY1_pages_115\n",
      "Score: 2.1487002\n",
      "Page: 115\n",
      "dict_keys(['title', 'chunk', 'chunk_id', 'parent_id', '@search.score', '@search.reranker_score', '@search.highlights', '@search.captions'])\n"
     ]
    }
   ],
   "source": [
    "# Hybrid Search\n",
    "query = \"eye test\" #\"Which is more comprehensive, Northwind Health Plus vs Northwind Standard?\"  \n",
    "  \n",
    "search_client = SearchClient(endpoint, index_name, credential=credential)\n",
    "vector_query = VectorizableTextQuery(text=query, k_nearest_neighbors=1, fields=\"vector\", exhaustive=True)\n",
    "  \n",
    "results = search_client.search(  \n",
    "    search_text=query,  \n",
    "    vector_queries= [], #[vector_query],\n",
    "    select=[\"parent_id\", \"chunk_id\", \"chunk\", \"title\"],\n",
    "\n",
    "    # top=1\n",
    ")  \n",
    "  \n",
    "\n",
    "for result in results:  \n",
    "    # print(f\"{len(result['parent_id'])} : {len(result['chunk_id'])} \")\n",
    "    if result[\"parent_id\"] == None:\n",
    "        print(f\"chunk_id: {result['chunk_id']}\")  \n",
    "        print(f\"Score: {result['@search.score']}\")  \n",
    "        \n",
    "    print(f\"title: {result['title']}\")\n",
    "    print(f\"parent_id: {result['parent_id']}\")  \n",
    "    print(f\"chunk_id: {result['chunk_id']}\")  \n",
    "    print(f\"Score: {result['@search.score']}\")  \n",
    "    print(f\"Page: {get_page_number(result['chunk_id'])}\")\n",
    "\n",
    "print(result.keys())"
   ]
  },
  {
   "cell_type": "code",
   "execution_count": 13,
   "metadata": {},
   "outputs": [
    {
     "name": "stdout",
     "output_type": "stream",
     "text": [
      "dict_keys(['title', 'chunk', 'chunk_id', 'parent_id', '@search.score', '@search.reranker_score', '@search.highlights', '@search.captions'])\n"
     ]
    }
   ],
   "source": [
    "import re\n",
    "\n",
    "page_re = r'_pages_(\\d+)$'\n",
    "\n",
    "results = search_client.search(  \n",
    "    search_text=query,  \n",
    "    vector_queries= [], #[vector_query],\n",
    "    select=[\"parent_id\", \"chunk_id\", \"chunk\",\"title\"],\n",
    "    # filter=\"parent_id ne null\", # retrieves chunks only\n",
    "    filter=\"parent_id eq null\", # retrieves parent documents only\n",
    "\n",
    "    # top=1\n",
    ")  \n",
    "\n",
    "for result in results:  \n",
    "    print(f\"chunk_id: {result['chunk_id']}\")  \n",
    "    print(f\"Score: {result['@search.score']}\") \n",
    "    # print(f\"Content: {result['chunk']}\") \n",
    "    print(f\"Title: {result['title']}\")\n",
    "    match = re.search(page_re, result['chunk_id'])\n",
    "    if match:\n",
    "        page_number = match.group(1)\n",
    "        print(f\"Page: {page_number}\")\n",
    "     \n",
    "print(result.keys())"
   ]
  },
  {
   "cell_type": "code",
   "execution_count": 63,
   "metadata": {},
   "outputs": [],
   "source": [
    "# for result in results: \n",
    "#     print(result['parent_id'])\n",
    "\n",
    "parent_ids = [result['parent_id'] for result in results]"
   ]
  },
  {
   "cell_type": "code",
   "execution_count": 64,
   "metadata": {},
   "outputs": [
    {
     "data": {
      "text/plain": [
       "416"
      ]
     },
     "execution_count": 64,
     "metadata": {},
     "output_type": "execute_result"
    }
   ],
   "source": [
    "len(parent_ids)"
   ]
  },
  {
   "cell_type": "code",
   "execution_count": 32,
   "metadata": {},
   "outputs": [
    {
     "name": "stdout",
     "output_type": "stream",
     "text": [
      "dict_keys(['chunk', 'chunk_id', 'parent_id', '@search.score', '@search.reranker_score', '@search.highlights', '@search.captions'])\n",
      "{'chunk': 'leadership, interpersonal, and communication skills \\n\\n• Ability to analyze and interpret data \\n\\n• Proficiency in MS Office, HRIS systems, and other related software \\n\\n• Certification in Human Resources (e.g. PHR or SHRM-CP) is preferred \\n\\nSenior Manager of Research and Development \\n \\n\\nJob Title: Senior Manager of Research and Development, Contoso Electronics \\n\\n \\n\\nJob Summary: \\n\\nThe Senior Manager of Research and Development will lead the research and development \\n\\nteam at Contoso Electronics. This position requires a highly motivated individual with a \\n\\npassion for technology and innovation. The Senior Manager will be responsible for \\n\\noverseeing the research and development process, ensuring that projects are completed in \\n\\na timely manner, and leading the team to success. \\n\\n \\n\\nResponsibilities: \\n\\n- Develop strategies to ensure that research and development initiatives are effective and \\n\\nsuccessful \\n\\n- Oversee and manage all research and development projects \\n\\n- Lead and motivate the research and development team to ensure that projects are \\n\\ncompleted in a timely manner \\n\\n- Analyze data and develop new and innovative products \\n\\n- Work cross-functionally with other departments to ensure that products are developed in \\n\\nline with company goals \\n\\n- Research and develop new technologies to stay ahead of the competition \\n\\n- Monitor the performance of the research and development team to ensure that projects \\n\\nare completed on time and within budget \\n\\n- Develop and maintain relationships with industry partners and vendors \\n\\n \\n\\nQualifications: \\n\\n- Bachelor’s degree in a related field such as engineering, computer science, or business \\n\\n- 5+ years of experience in a research and development role \\n\\n- Demonstrated ability to lead and motivate a team \\n\\n- Excellent organizational skills and attention to detail \\n\\n- Ability to analyze data and make decisions quickly \\n\\n- Proven track record of successful product development', 'chunk_id': '45ef19dfa343_aHR0cHM6Ly9nb2R6aWxsYXN0b3JhZ2UuYmxvYi5jb3JlLndpbmRvd3MubmV0L2ludGVncmF0ZWR2ZWN0b3ItZG9jcy9yb2xlX2xpYnJhcnkucGRm0_pages_27', 'parent_id': 'aHR0cHM6Ly9nb2R6aWxsYXN0b3JhZ2UuYmxvYi5jb3JlLndpbmRvd3MubmV0L2ludGVncmF0ZWR2ZWN0b3ItZG9jcy9yb2xlX2xpYnJhcnkucGRm0', '@search.score': 0.0021929824724793434, '@search.reranker_score': None, '@search.highlights': None, '@search.captions': None}\n"
     ]
    }
   ],
   "source": [
    "print(result.keys())\n",
    "print(result)"
   ]
  },
  {
   "cell_type": "markdown",
   "metadata": {},
   "source": [
    "## Perform a hybrid search + semantic reranking"
   ]
  },
  {
   "cell_type": "code",
   "execution_count": null,
   "metadata": {},
   "outputs": [],
   "source": [
    "from azure.search.documents.models import (\n",
    "    QueryType,\n",
    "    QueryCaptionType,\n",
    "    QueryAnswerType\n",
    ")\n",
    "# Semantic Hybrid Search\n",
    "query = \"Which is more comprehensive, Northwind Health Plus vs Northwind Standard?\"\n",
    "\n",
    "search_client = SearchClient(endpoint, index_name, credential)\n",
    "vector_query = VectorizableTextQuery(text=query, k_nearest_neighbors=1, fields=\"vector\", exhaustive=True)\n",
    "\n",
    "results = search_client.search(  \n",
    "    search_text=query,\n",
    "    vector_queries=[vector_query],\n",
    "    select=[\"parent_id\", \"chunk_id\", \"chunk\"],\n",
    "    query_type=QueryType.SEMANTIC,\n",
    "    semantic_configuration_name='my-semantic-config',\n",
    "    query_caption=QueryCaptionType.EXTRACTIVE,\n",
    "    query_answer=QueryAnswerType.EXTRACTIVE,\n",
    "    top=1\n",
    ")\n",
    "\n",
    "semantic_answers = results.get_answers()\n",
    "if semantic_answers:\n",
    "    for answer in semantic_answers:\n",
    "        if answer.highlights:\n",
    "            print(f\"Semantic Answer: {answer.highlights}\")\n",
    "        else:\n",
    "            print(f\"Semantic Answer: {answer.text}\")\n",
    "        print(f\"Semantic Answer Score: {answer.score}\\n\")\n",
    "\n",
    "for result in results:\n",
    "    print(f\"parent_id: {result['parent_id']}\")  \n",
    "    print(f\"chunk_id: {result['chunk_id']}\")  \n",
    "    print(f\"Reranker Score: {result['@search.reranker_score']}\")\n",
    "    print(f\"Content: {result['chunk']}\")  \n",
    "\n",
    "    captions = result[\"@search.captions\"]\n",
    "    if captions:\n",
    "        caption = captions[0]\n",
    "        if caption.highlights:\n",
    "            print(f\"Caption: {caption.highlights}\\n\")\n",
    "        else:\n",
    "            print(f\"Caption: {caption.text}\\n\")\n"
   ]
  }
 ],
 "metadata": {
  "kernelspec": {
   "display_name": "Python 3",
   "language": "python",
   "name": "python3"
  },
  "language_info": {
   "codemirror_mode": {
    "name": "ipython",
    "version": 3
   },
   "file_extension": ".py",
   "mimetype": "text/x-python",
   "name": "python",
   "nbconvert_exporter": "python",
   "pygments_lexer": "ipython3",
   "version": "3.11.8"
  },
  "orig_nbformat": 4
 },
 "nbformat": 4,
 "nbformat_minor": 2
}
