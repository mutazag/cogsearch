{
 "cells": [
  {
   "attachments": {},
   "cell_type": "markdown",
   "metadata": {},
   "source": [
    "# Azure AI Search integrated vectorization sample\n"
   ]
  },
  {
   "cell_type": "code",
   "execution_count": 1,
   "metadata": {},
   "outputs": [],
   "source": [
    "from dotenv import load_dotenv\n",
    "from azure.identity import DefaultAzureCredential\n",
    "from azure.core.credentials import AzureKeyCredential\n",
    "import os\n"
   ]
  },
  {
   "cell_type": "code",
   "execution_count": 9,
   "metadata": {},
   "outputs": [],
   "source": [
    "\n",
    "load_dotenv(override=True) # take environment variables from .env.\n",
    "\n",
    "# Variables not used here do not need to be updated in your .env file\n",
    "endpoint = os.environ[\"AZURE_SEARCH_SERVICE_ENDPOINT\"]\n",
    "credential = DefaultAzureCredential()\n",
    "# credential = AzureKeyCredential(os.environ[\"AZURE_SEARCH_ADMIN_KEY\"]) if len(os.environ[\"AZURE_SEARCH_ADMIN_KEY\"]) > 0 else DefaultAzureCredential()\n",
    "index_name = os.environ[\"AZURE_SEARCH_INDEX\"]\n",
    "blob_connection_string = os.environ[\"BLOB_CONNECTION_STRING\"]\n",
    "blob_container_name = os.environ[\"BLOB_CONTAINER_NAME\"]\n",
    "azure_openai_endpoint = os.environ[\"AZURE_OPENAI_ENDPOINT\"]\n",
    "azure_openai_key = os.environ[\"AZURE_OPENAI_KEY\"] if len(os.environ[\"AZURE_OPENAI_KEY\"]) > 0 else None\n",
    "azure_openai_embedding_deployment = os.environ[\"AZURE_OPENAI_EMBEDDING_DEPLOYMENT\"]"
   ]
  },
  {
   "cell_type": "code",
   "execution_count": 10,
   "metadata": {},
   "outputs": [],
   "source": [
    "import re\n",
    "def get_page_number(chunk_id : str):\n",
    "    page_re = r'_pages_(\\d+)$'\n",
    "\n",
    "    match = re.search(page_re, chunk_id)\n",
    "    if match:\n",
    "        page_number = match.group(1)\n",
    "        return page_number"
   ]
  },
  {
   "attachments": {},
   "cell_type": "markdown",
   "metadata": {},
   "source": [
    "## Perform a vector similarity search"
   ]
  },
  {
   "cell_type": "markdown",
   "metadata": {},
   "source": [
    "This example shows a pure vector search using the vectorizable text query, all you need to do is pass in text and your vectorizer will handle the query vectorization.\n",
    "\n",
    "If you indexed the health plan PDF file, send queries that ask plan-related questions."
   ]
  },
  {
   "cell_type": "code",
   "execution_count": 11,
   "metadata": {},
   "outputs": [
    {
     "name": "stdout",
     "output_type": "stream",
     "text": [
      "title: Northwind_Health_Plus_Benefits_Details.pdf\n",
      "parent_id: aHR0cHM6Ly9nb2R6aWxsYXN0b3JhZ2UuYmxvYi5jb3JlLndpbmRvd3MubmV0L2ludGVncmF0ZWR2ZWN0b3ItZG9jcy9Ob3J0aHdpbmRfSGVhbHRoX1BsdXNfQmVuZWZpdHNfRGV0YWlscy5wZGY1\n",
      "chunk_id: 06b081b451f3_aHR0cHM6Ly9nb2R6aWxsYXN0b3JhZ2UuYmxvYi5jb3JlLndpbmRvd3MubmV0L2ludGVncmF0ZWR2ZWN0b3ItZG9jcy9Ob3J0aHdpbmRfSGVhbHRoX1BsdXNfQmVuZWZpdHNfRGV0YWlscy5wZGY1_pages_104\n",
      "Score: 0.013698630034923553\n",
      "Page: 104\n",
      "search captions: be covered by your Northwind Health Plus plan. W... These   include:    • Routine office visits   • Immunizations   • X-Ray services   • Emergency services   • Family planning services   • Maternity services   • Services and supplies related to diabetes   • Preventive care services   • Mental health and substance abuse services   • Routine eye.\n",
      "search captions highlights: \n",
      "title: Benefit_Options.pdf\n",
      "parent_id: aHR0cHM6Ly9nb2R6aWxsYXN0b3JhZ2UuYmxvYi5jb3JlLndpbmRvd3MubmV0L2ludGVncmF0ZWR2ZWN0b3ItZG9jcy9CZW5lZml0X09wdGlvbnMucGRm0\n",
      "chunk_id: 9bda6a7aeb27_aHR0cHM6Ly9nb2R6aWxsYXN0b3JhZ2UuYmxvYi5jb3JlLndpbmRvd3MubmV0L2ludGVncmF0ZWR2ZWN0b3ItZG9jcy9CZW5lZml0X09wdGlvbnMucGRm0_pages_2\n",
      "Score: 0.01666666753590107\n",
      "Page: 2\n",
      "search captions: Northwind Standard   only offers coverage for vision exams and glasses. Both plans offer coverage for medical services. Northwind Health Plus offers coverage for hospital stays,   doctor visits, lab tests, and X-rays. Northwind Health Plus is a comprehensive plan that offers more coverage than Northwind Standard. Next Steps  We hope that this.\n",
      "search captions highlights: Northwind Standard   only offers<em> coverage for vision exams and glasses.</em> Both plans offer coverage for medical services. Northwind Health Plus offers coverage for hospital stays,   doctor visits, lab tests, and X-rays. Northwind Health Plus is a comprehensive plan that offers more coverage than Northwind Standard. Next Steps  We hope that this.\n",
      "title: Northwind_Health_Plus_Benefits_Details.pdf\n",
      "parent_id: aHR0cHM6Ly9nb2R6aWxsYXN0b3JhZ2UuYmxvYi5jb3JlLndpbmRvd3MubmV0L2ludGVncmF0ZWR2ZWN0b3ItZG9jcy9Ob3J0aHdpbmRfSGVhbHRoX1BsdXNfQmVuZWZpdHNfRGV0YWlscy5wZGY1\n",
      "chunk_id: 06b081b451f3_aHR0cHM6Ly9nb2R6aWxsYXN0b3JhZ2UuYmxvYi5jb3JlLndpbmRvd3MubmV0L2ludGVncmF0ZWR2ZWN0b3ItZG9jcy9Ob3J0aHdpbmRfSGVhbHRoX1BsdXNfQmVuZWZpdHNfRGV0YWlscy5wZGY1_pages_75\n",
      "Score: 0.016393441706895828\n",
      "Page: 75\n",
      "search captions: Exceptions:   Northwind Health Plus does not cover any services that are deemed medically unnecessary. Professional Visits And Services   COVERED SERVICES: Professional Visits And Services   Northwind Health Plus covers a variety of professional visits and services, including office  ... Laboratory Tests: Northwind Health Plus covers laboratory.\n",
      "search captions highlights: \n",
      "title: Northwind_Standard_Benefits_Details.pdf\n",
      "parent_id: aHR0cHM6Ly9nb2R6aWxsYXN0b3JhZ2UuYmxvYi5jb3JlLndpbmRvd3MubmV0L2ludGVncmF0ZWR2ZWN0b3ItZG9jcy9Ob3J0aHdpbmRfU3RhbmRhcmRfQmVuZWZpdHNfRGV0YWlscy5wZGY1\n",
      "chunk_id: b181d3e98b6a_aHR0cHM6Ly9nb2R6aWxsYXN0b3JhZ2UuYmxvYi5jb3JlLndpbmRvd3MubmV0L2ludGVncmF0ZWR2ZWN0b3ItZG9jcy9Ob3J0aHdpbmRfU3RhbmRhcmRfQmVuZWZpdHNfRGV0YWlscy5wZGY1_pages_15\n",
      "Score: 0.015384615398943424\n",
      "Page: 15\n",
      "search captions: IMPORTANT PLAN INFORMATION   Copayments (Copays)   IMPORTANT PLAN INFORMATION: Copayments (Copays)   At Northwind Health, our Northwind Standard plan includes copayments (copays) for   certain services. For example, copays for... Copays for diagnostic testing, such as lab   tests and X-rays, may range from $20 to $100 depending on the type of.\n",
      "search captions highlights: \n",
      "title: Northwind_Standard_Benefits_Details.pdf\n",
      "parent_id: aHR0cHM6Ly9nb2R6aWxsYXN0b3JhZ2UuYmxvYi5jb3JlLndpbmRvd3MubmV0L2ludGVncmF0ZWR2ZWN0b3ItZG9jcy9Ob3J0aHdpbmRfU3RhbmRhcmRfQmVuZWZpdHNfRGV0YWlscy5wZGY1\n",
      "chunk_id: b181d3e98b6a_aHR0cHM6Ly9nb2R6aWxsYXN0b3JhZ2UuYmxvYi5jb3JlLndpbmRvd3MubmV0L2ludGVncmF0ZWR2ZWN0b3ItZG9jcy9Ob3J0aHdpbmRfU3RhbmRhcmRfQmVuZWZpdHNfRGV0YWlscy5wZGY1_pages_147\n",
      "Score: 0.01587301678955555\n",
      "Page: 147\n",
      "search captions: OTHER INFORMATION ... Examples of services that require evidence of medical necessity include, but are not limited   to, hospital stays, surgery, diagnostic tests, and specialized treatments. Examples of the types of medical evidence that may be requested include:    • Medical records    • Physician’s notes    • Diagnostic test results    •.\n",
      "search captions highlights: OTHER INFORMATION ... Examples of services that require evidence of medical necessity include, but are not limited   to, hospital stays, surgery,<em> diagnostic tests, </em>and specialized treatments. Examples of the types of medical evidence that may be requested include:    • Medical records    • Physician’s notes    •<em> Diagnostic test results </em>   •.\n"
     ]
    }
   ],
   "source": [
    "from azure.search.documents import SearchClient\n",
    "from azure.search.documents.models import VectorizableTextQuery\n",
    "\n",
    "# Pure Vector Search\n",
    "query = \"eye test\"\n",
    "# \"Which is more comprehensive, Northwind Health Plus vs Northwind Standard?\"\n",
    "\n",
    "topk = 5\n",
    "\n",
    "search_client = SearchClient(endpoint, index_name, credential=credential)\n",
    "\n",
    "\n",
    "vector_fields = [\"vector\"]\n",
    "\n",
    "vector_queries = [VectorizableTextQuery(\n",
    "        text = query,\n",
    "        k_nearest_neighbors=topk,\n",
    "        fields=vector,\n",
    "        exhaustive=True,\n",
    "    ) for vector in vector_fields]\n",
    "\n",
    "\n",
    "# vector_query = VectorizableTextQuery(text=query, k_nearest_neighbors=topk, fields=\"vector\", exhaustive=True)\n",
    "# Use the below query to pass in the raw vector query instead of the query vectorization\n",
    "# vector_query = RawVectorQuery(vector=generate_embeddings(query), k_nearest_neighbors=3, fields=\"vector\")\n",
    "\n",
    "# results = search_client.search(\n",
    "#     search_text=None,\n",
    "#     vector_queries= vector_queries,\n",
    "#     select=[\"parent_id\", \"chunk_id\", \"chunk\",\"title\"],\n",
    "#     top=topk\n",
    "# )\n",
    "\n",
    "\n",
    "\n",
    "results = search_client.search(\n",
    "        search_text = query,\n",
    "        vector_queries=vector_queries,\n",
    "        select=[\"parent_id\", \"chunk_id\", \"chunk\",\"title\"],\n",
    "        top=topk,\n",
    "        include_total_count=True,\n",
    "        query_type=\"semantic\",\n",
    "        semantic_configuration_name=\"my-semantic-config\",\n",
    "        query_answer=\"extractive\",\n",
    "        query_answer_count=5,\n",
    "        query_caption=\"extractive\",\n",
    "        query_caption_highlight_enabled=True,\n",
    "    )\n",
    "\n",
    "\n",
    "for result in results:\n",
    "    print(f\"title: {result['title']}\")\n",
    "    print(f\"parent_id: {result['parent_id']}\")\n",
    "    print(f\"chunk_id: {result['chunk_id']}\")\n",
    "    print(f\"Score: {result['@search.score']}\")\n",
    "    print(f\"Page: {get_page_number(result['chunk_id'])}\")\n",
    "    print(f\"search captions: {result['@search.captions'][0].text}\")\n",
    "    print(f\"search captions highlights: {result['@search.captions'][0].highlights}\")\n",
    "\n",
    "    # print(f\"Content: {result['chunk']}\")\n"
   ]
  },
  {
   "cell_type": "code",
   "execution_count": null,
   "metadata": {},
   "outputs": [],
   "source": [
    "print(result.keys())"
   ]
  },
  {
   "cell_type": "code",
   "execution_count": null,
   "metadata": {},
   "outputs": [],
   "source": [
    "search_caption = result[\"@search.captions\"]"
   ]
  },
  {
   "cell_type": "code",
   "execution_count": null,
   "metadata": {},
   "outputs": [],
   "source": []
  },
  {
   "cell_type": "code",
   "execution_count": null,
   "metadata": {},
   "outputs": [],
   "source": [
    "for sc in search_caption:\n",
    "    print(sc)"
   ]
  },
  {
   "cell_type": "code",
   "execution_count": null,
   "metadata": {},
   "outputs": [],
   "source": [
    "print(sc.text)\n",
    "print(sc.highlights)\n",
    "print(sc.additional_properties)\n",
    "sc.as_dict().keys()"
   ]
  },
  {
   "cell_type": "markdown",
   "metadata": {},
   "source": [
    "## Perform a hybrid search"
   ]
  },
  {
   "cell_type": "code",
   "execution_count": null,
   "metadata": {},
   "outputs": [],
   "source": [
    "# Hybrid Search\n",
    "query = \"eye test\" #\"Which is more comprehensive, Northwind Health Plus vs Northwind Standard?\"\n",
    "\n",
    "search_client = SearchClient(endpoint, index_name, credential=credential)\n",
    "vector_query = VectorizableTextQuery(text=query, k_nearest_neighbors=1, fields=\"vector\", exhaustive=True)\n",
    "\n",
    "results = search_client.search(\n",
    "    search_text=query,\n",
    "    vector_queries= [], #[vector_query],\n",
    "    select=[\"parent_id\", \"chunk_id\", \"chunk\", \"title\"],\n",
    "\n",
    "    # top=1\n",
    ")\n",
    "\n",
    "\n",
    "for result in results:\n",
    "    # print(f\"{len(result['parent_id'])} : {len(result['chunk_id'])} \")\n",
    "    if result[\"parent_id\"] == None:\n",
    "        print(f\"chunk_id: {result['chunk_id']}\")\n",
    "        print(f\"Score: {result['@search.score']}\")\n",
    "\n",
    "    print(f\"title: {result['title']}\")\n",
    "    print(f\"parent_id: {result['parent_id']}\")\n",
    "    print(f\"chunk_id: {result['chunk_id']}\")\n",
    "    print(f\"Score: {result['@search.score']}\")\n",
    "    print(f\"Page: {get_page_number(result['chunk_id'])}\")\n",
    "\n",
    "print(result.keys())"
   ]
  },
  {
   "cell_type": "code",
   "execution_count": null,
   "metadata": {},
   "outputs": [],
   "source": [
    "import re\n",
    "\n",
    "page_re = r'_pages_(\\d+)$'\n",
    "\n",
    "results = search_client.search(\n",
    "    search_text=query,\n",
    "    vector_queries= [], #[vector_query],\n",
    "    select=[\"parent_id\", \"chunk_id\", \"chunk\",\"title\"],\n",
    "    # filter=\"parent_id ne null\", # retrieves chunks only\n",
    "    filter=\"parent_id eq null\", # retrieves parent documents only\n",
    "\n",
    "    # top=1\n",
    ")\n",
    "\n",
    "for result in results:\n",
    "    print(f\"chunk_id: {result['chunk_id']}\")\n",
    "    print(f\"Score: {result['@search.score']}\")\n",
    "    # print(f\"Content: {result['chunk']}\")\n",
    "    print(f\"Title: {result['title']}\")\n",
    "    match = re.search(page_re, result['chunk_id'])\n",
    "    if match:\n",
    "        page_number = match.group(1)\n",
    "        print(f\"Page: {page_number}\")\n",
    "\n",
    "print(result.keys())"
   ]
  },
  {
   "cell_type": "code",
   "execution_count": null,
   "metadata": {},
   "outputs": [],
   "source": [
    "# for result in results:\n",
    "#     print(result['parent_id'])\n",
    "\n",
    "parent_ids = [result['parent_id'] for result in results]"
   ]
  },
  {
   "cell_type": "code",
   "execution_count": null,
   "metadata": {},
   "outputs": [],
   "source": [
    "len(parent_ids)"
   ]
  },
  {
   "cell_type": "code",
   "execution_count": null,
   "metadata": {},
   "outputs": [],
   "source": [
    "print(result.keys())\n",
    "print(result)"
   ]
  },
  {
   "cell_type": "markdown",
   "metadata": {},
   "source": [
    "## Perform a hybrid search + semantic reranking"
   ]
  },
  {
   "cell_type": "code",
   "execution_count": null,
   "metadata": {},
   "outputs": [],
   "source": [
    "from azure.search.documents.models import (\n",
    "    QueryType,\n",
    "    QueryCaptionType,\n",
    "    QueryAnswerType\n",
    ")\n",
    "# Semantic Hybrid Search\n",
    "query = \"Which is more comprehensive, Northwind Health Plus vs Northwind Standard?\"\n",
    "\n",
    "search_client = SearchClient(endpoint, index_name, credential)\n",
    "vector_query = VectorizableTextQuery(text=query, k_nearest_neighbors=1, fields=\"vector\", exhaustive=True)\n",
    "\n",
    "results = search_client.search(\n",
    "    search_text=query,\n",
    "    vector_queries=[vector_query],\n",
    "    select=[\"parent_id\", \"chunk_id\", \"chunk\"],\n",
    "    query_type=QueryType.SEMANTIC,\n",
    "    semantic_configuration_name='my-semantic-config',\n",
    "    query_caption=QueryCaptionType.EXTRACTIVE,\n",
    "    query_answer=QueryAnswerType.EXTRACTIVE,\n",
    "    top=1\n",
    ")\n",
    "\n",
    "semantic_answers = results.get_answers()\n",
    "if semantic_answers:\n",
    "    for answer in semantic_answers:\n",
    "        if answer.highlights:\n",
    "            print(f\"Semantic Answer: {answer.highlights}\")\n",
    "        else:\n",
    "            print(f\"Semantic Answer: {answer.text}\")\n",
    "        print(f\"Semantic Answer Score: {answer.score}\\n\")\n",
    "\n",
    "for result in results:\n",
    "    print(f\"parent_id: {result['parent_id']}\")\n",
    "    print(f\"chunk_id: {result['chunk_id']}\")\n",
    "    print(f\"Reranker Score: {result['@search.reranker_score']}\")\n",
    "    print(f\"Content: {result['chunk']}\")\n",
    "\n",
    "    captions = result[\"@search.captions\"]\n",
    "    if captions:\n",
    "        caption = captions[0]\n",
    "        if caption.highlights:\n",
    "            print(f\"Caption: {caption.highlights}\\n\")\n",
    "        else:\n",
    "            print(f\"Caption: {caption.text}\\n\")\n"
   ]
  }
 ],
 "metadata": {
  "kernelspec": {
   "display_name": "Python 3",
   "language": "python",
   "name": "python3"
  },
  "language_info": {
   "codemirror_mode": {
    "name": "ipython",
    "version": 3
   },
   "file_extension": ".py",
   "mimetype": "text/x-python",
   "name": "python",
   "nbconvert_exporter": "python",
   "pygments_lexer": "ipython3",
   "version": "3.11.8"
  },
  "orig_nbformat": 4
 },
 "nbformat": 4,
 "nbformat_minor": 2
}
